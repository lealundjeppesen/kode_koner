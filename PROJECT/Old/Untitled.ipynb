{
 "cells": [
  {
   "cell_type": "markdown",
   "id": "2790c252-6a44-4c4d-9150-69ccf026f704",
   "metadata": {},
   "source": [
    "## Scraping BT for Novo Nordisk"
   ]
  },
  {
   "cell_type": "code",
   "execution_count": 5,
   "id": "8b5982c8-1fc4-4e2e-85c4-ccc65cda0b2a",
   "metadata": {},
   "outputs": [],
   "source": [
    "from selenium import webdriver\n",
    "from webdriver_manager.chrome import ChromeDriverManager\n",
    "from selenium.webdriver.common.keys import Keys\n",
    "from selenium.webdriver.common.by import By\n",
    "from selenium.webdriver.support import expected_conditions as EC\n",
    "from selenium.webdriver.support.ui import WebDriverWait\n",
    "from selenium.webdriver.support.ui import Select\n",
    "\n",
    "from bs4 import BeautifulSoup\n",
    "import time\n",
    "import re\n",
    "import requests\n",
    "import pandas as pd"
   ]
  },
  {
   "cell_type": "code",
   "execution_count": 138,
   "id": "497ce534-0fd5-41c9-a4f0-313331d7df58",
   "metadata": {},
   "outputs": [
    {
     "name": "stdout",
     "output_type": "stream",
     "text": [
      "[]\n"
     ]
    }
   ],
   "source": [
    "#Get the response\n",
    "#response=requests.get('https://www.bt.dk', headers={'name': 'Lea Lund Jeppesen', 'e-mail':'snk956@alumni.ku.dk'})\n",
    "\n",
    "# Set up the driver and navigate to the URL\n",
    "url = 'https://www.bt.dk'\n",
    "driver = webdriver.Chrome()  # Ensure you have the ChromeDriver set up correctly\n",
    "driver.get(url,)\n",
    "\n",
    "# Find and click on the \"Allow Cookies\" button\n",
    "allow_cookies_button = driver.find_element(By.CSS_SELECTOR, \"#CybotCookiebotDialogBodyButtonDecline\")\n",
    "allow_cookies_button.click()\n",
    "\n",
    "#Find and click the menu button\n",
    "menu_data_id = \"menuToggler\"\n",
    "menu_element = driver.find_element(By.CSS_SELECTOR, f\"[data-id='{menu_data_id}']\")\n",
    "menu_element.click()\n",
    "\n",
    "# Locate the search input element by its ID\n",
    "search_input_id = \"header-search\"\n",
    "search_input = driver.find_element(By.ID, search_input_id)\n",
    "\n",
    "# Perform a search action in the search input\n",
    "search_input.send_keys(\"Novo Nordisk\")  # Replace with your search query\n",
    "search_input.submit()\n",
    "\n",
    "\n",
    "\n",
    "\n"
   ]
  },
  {
   "cell_type": "code",
   "execution_count": 148,
   "id": "77f2dd36-5491-492d-a8e0-b1c8e781678a",
   "metadata": {},
   "outputs": [
    {
     "data": {
      "text/plain": [
       "'1480'"
      ]
     },
     "execution_count": 148,
     "metadata": {},
     "output_type": "execute_result"
    }
   ],
   "source": [
    "# Get the page source\n",
    "page_source = driver.page_source\n",
    "\n",
    "# Use Beautiful Soup to parse the HTML\n",
    "soup = BeautifulSoup(page_source, \"html.parser\")\n",
    "\n",
    "total_articles=soup.find_all(\"h1\", {\"class\":\"page-title\"})[0].text.split(\" \")[1]\n",
    "total_articles\n"
   ]
  },
  {
   "cell_type": "code",
   "execution_count": 154,
   "id": "dc84f824-949f-462a-a216-460a1f4c38e8",
   "metadata": {},
   "outputs": [
    {
     "name": "stdout",
     "output_type": "stream",
     "text": [
      "[0, 100, 200, 300, 400, 500, 600, 700, 800, 900, 1000, 1100, 1200, 1300, 1400, 1480]\n"
     ]
    }
   ],
   "source": [
    "steps=[]\n",
    "\n",
    "for i in range(0,int(1480/100)+1): \n",
    "    steps.append(i*100)\n",
    "    \n",
    "steps.append(int(total_articles))\n"
   ]
  },
  {
   "cell_type": "code",
   "execution_count": 234,
   "id": "1dd9ab61-dabb-45e8-ad89-c395157d17a1",
   "metadata": {},
   "outputs": [
    {
     "name": "stdout",
     "output_type": "stream",
     "text": [
      "['[<article class=\"teaser teaser--flat\">\\n<a class=\"teaser__link\" data-k5a-url=\"https://www.bt.dk/content/item/1708295\" data-lpurl=\"https://www.bt.dk/content/item/1708295\" ', '=\"https://www.bt.dk/forbrug/afgoerende-for-danmark-novo-nordisk-krydser-utrolig-graense-efter-nye-jubeltal\">\\n<figure class=\"teaser__image\">\\n<img alt=\"Afgørende for Danmark: Novo Nordisk krydser utrolig grænse efter nye jubeltal\" class=\"img-responsive\" src=\"https://bt.bmcdn.dk/media/cache/resolve/image_300x200/image/204/2047127/24496245-novo-nordisk-fejrer-100-rs-fdselsdag-med-et-kmp.jpg\"/>\\n</figure>\\n<div class=\"teaser-body\">\\n<h2 class=\"teaser-body__header\">\\n                Afgørende for Danmark: Novo Nordisk krydser utrolig grænse efter nye jubeltal\\n            </h2>\\n</div>\\n</a>\\n</article>, <article class=\"teaser teaser--flat\">\\n<a class=\"teaser__link\" data-k5a-url=\"https://www.bt.dk/content/item/1708311\" data-lpurl=\"https://www.bt.dk/content/item/1708311\" ', '=\"https://www.bt.dk/erhverv/novo-nordisk-kaemper-med-at-foelge-den-store-efterspoergsel\">\\n<figure class=\"teaser__image\">\\n<img alt=\"Novo Nordisk kæmper med at følge den store efterspørgsel\" class=\"img-responsive\" src=\"https://bt.bmcdn.dk/media/cache/resolve/image_300x200/image/204/2047101/24496198-novo-nordisks-salg-af-slankemidlet-wegovy-er-nste.jpg\"/>\\n</figure>\\n<div class=\"teaser-body\">\\n<h2 class=\"teaser-body__header\">\\n                Novo Nordisk kæmper med at følge den store efterspørgsel\\n            </h2>\\n</div>\\n</a>\\n</article>, <article class=\"teaser teaser--flat\">\\n<a class=\"teaser__link\" data-k5a-url=\"https://www.bt.dk/content/item/1708279\" data-lpurl=\"https://www.bt.dk/content/item/1708279\" ', '=\"https://www.bt.dk/forbrug/novo-nordisk-aktien-er-gaaet-amok-10000-kroner-er-blevet-til-172-millioner\">\\n<figure class=\"teaser__image\">\\n<img alt=\"Novo Nordisk-aktien er gået amok: 10.000 kroner er blevet til 1,72 millioner\" class=\"img-responsive\" src=\"https://bt.bmcdn.dk/media/cache/resolve/image_300x200/image/204/2047027/24496015-novo-nordisk-fejrer-100-rs-fdselsdag-med-et-kmp.jpg\"/>\\n</figure>\\n<div class=\"teaser-body\">\\n<h2 class=\"teaser-body__header\">\\n                Novo Nordisk-aktien er gået amok: 10.000 kroner er blevet til 1,72 millioner\\n            </h2>\\n</div>\\n</a>\\n</article>, <article class=\"teaser teaser--flat\">\\n<a class=\"teaser__link\" data-k5a-url=\"https://www.bt.dk/content/item/1708307\" data-lpurl=\"https://www.bt.dk/content/item/1708307\" ', '=\"https://www.bt.dk/erhverv/novos-gigantoverskud-kommer-hele-danmark-til-gode\">\\n<figure class=\"teaser__image\">\\n<img alt=\"Novos gigantoverskud kommer hele Danmark til gode\" class=\"img-responsive\" src=\"https://bt.bmcdn.dk/media/cache/resolve/image_300x200/image/204/2047082/24496145-novo-nordisk-bidrager-til-dansk-konomi-p-mange-m.jpg\"/>\\n</figure>\\n<div class=\"teaser-body\">\\n<h2 class=\"teaser-body__header\">\\n                Novos gigantoverskud kommer hele Danmark til gode\\n            </h2>\\n</div>\\n</a>\\n</article>, <article class=\"teaser teaser--flat\">\\n<a class=\"teaser__link\" data-k5a-url=\"https://www.bt.dk/content/item/1708269\" data-lpurl=\"https://www.bt.dk/content/item/1708269\" ', '=\"https://www.bt.dk/erhverv/novo-nordisk-haever-milliardoverskud-trods-udbudsproblemer\">\\n<figure class=\"teaser__image\">\\n<img alt=\"Novo Nordisk hæver milliardoverskud trods udbudsproblemer\" class=\"img-responsive\" src=\"https://bt.bmcdn.dk/media/cache/resolve/image_300x200/image/204/2047016/24495985-novo-nordisk-har-tjent-194-milliarder-kroner-i-an.jpg\"/>\\n</figure>\\n<div class=\"teaser-body\">\\n<h2 class=\"teaser-body__header\">\\n                Novo Nordisk hæver milliardoverskud trods udbudsproblemer\\n            </h2>\\n</div>\\n</a>\\n</article>, <article class=\"teaser teaser--flat\">\\n<a class=\"teaser__link\" data-k5a-url=\"https://www.bt.dk/content/item/1708270\" data-lpurl=\"https://www.bt.dk/content/item/1708270\" ', '=\"https://www.bt.dk/erhverv/salg-af-novo-slankemiddel-boomer-mere-end-seksdoblet\">\\n<figure class=\"teaser__image\">\\n<img alt=\"Salg af Novo-slankemiddel boomer: Mere end seksdoblet\" class=\"img-responsive\" src=\"https://bt.bmcdn.dk/media/cache/resolve/image_300x200/image/204/2047011/24495973-vgttabsmidlet-wegovy-er-novo-nordisks-nstmest-so.jpg\"/>\\n</figure>\\n<div class=\"teaser-body\">\\n<h2 class=\"teaser-body__header\">\\n                Salg af Novo-slankemiddel boomer: Mere end seksdoblet\\n            </h2>\\n</div>\\n</a>\\n</article>, <article class=\"teaser teaser--flat\">\\n<a class=\"teaser__link\" data-k5a-url=\"https://www.bt.dk/content/item/1707981\" data-lpurl=\"https://www.bt.dk/content/item/1707981\" ', '=\"https://www.bt.dk/samfund/bagsiden-af-novo-nordisks-succes-millionforlig-whistleblowere-og-beskyldninger-om\">\\n<figure class=\"teaser__image\">\\n<img alt=\"Bagsiden af Novo Nordisks succes: Millionforlig, whistleblowere og beskyldninger om kartelvirksomhed\" class=\"img-responsive\" src=\"https://bt.bmcdn.dk/media/cache/resolve/image_300x200/image/204/2046316/24494579-novo-nordisk-fejrer-100-rs-fdselsdag-med-et-kmp.jpg\"/>\\n</figure>\\n<div class=\"teaser-body\">\\n<h2 class=\"teaser-body__header\">\\n                Bagsiden af Novo Nordisks succes: Millionforlig, whistleblowere og beskyldninger om kartelvirksomhed\\n            </h2>\\n</div>\\n</a>\\n</article>, <article class=\"teaser teaser--flat\">\\n<a class=\"teaser__link\" data-k5a-url=\"https://www.bt.dk/content/item/1708092\" data-lpurl=\"https://www.bt.dk/content/item/1708092\" ', '=\"https://www.bt.dk/samfund/regioner-forventer-milliardregning-for-novo-medicin\">\\n<figure class=\"teaser__image\">\\n<img alt=\"Regioner forventer milliardregning for Novo-medicin\" class=\"img-responsive\" src=\"https://bt.bmcdn.dk/media/cache/resolve/image_300x200/image/204/2046524/24495017-ozempic-er-baseret-p-stoffet-semaglutid-der-ogs.jpg\"/>\\n</figure>\\n<div class=\"teaser-body\">\\n<h2 class=\"teaser-body__header\">\\n                Regioner forventer milliardregning for Novo-medicin\\n            </h2>\\n</div>\\n</a>\\n</article>, <article class=\"teaser teaser--flat\">\\n<a class=\"teaser__link\" data-k5a-url=\"https://www.bt.dk/content/item/1708028\" data-lpurl=\"https://www.bt.dk/content/item/1708028\" ', '=\"https://www.bt.dk/erhverv/novos-markedsvaerdi-stiger-med-over-400-milliarder-tirsdag\">\\n<figure class=\"teaser__image\">\\n<img alt=\"Novos markedsværdi stiger med over 400 milliarder tirsdag\" class=\"img-responsive\" src=\"https://bt.bmcdn.dk/media/cache/resolve/image_300x200/image/204/2046410/24494813-novo-nordisk-aktien-lukkede-22-maj-i-kurs-117980.jpg\"/>\\n</figure>\\n<div class=\"teaser-body\">\\n<h2 class=\"teaser-body__header\">\\n                Novos markedsværdi stiger med over 400 milliarder tirsdag\\n            </h2>\\n</div>\\n</a>\\n</article>, <article class=\"teaser teaser--flat\">\\n<a class=\"teaser__link\" data-k5a-url=\"https://www.bt.dk/content/item/1707977\" data-lpurl=\"https://www.bt.dk/content/item/1707977\" ', '=\"https://www.bt.dk/erhverv/testresultater-sender-novo-aktien-i-rekordniveau\">\\n<figure class=\"teaser__image\">\\n<img alt=\"Testresultater sender Novo-aktien i rekordniveau\" class=\"img-responsive\" src=\"https://bt.bmcdn.dk/media/cache/resolve/image_300x200/image/204/2046288/24494514-novo-nordisk-har-hovedkvarter-i-bagsvrd-og-fejrer.jpg\"/>\\n</figure>\\n<div class=\"teaser-body\">\\n<h2 class=\"teaser-body__header\">\\n                Testresultater sender Novo-aktien i rekordniveau\\n            </h2>\\n</div>\\n</a>\\n</article>, <article class=\"teaser teaser--flat\">\\n<a class=\"teaser__link\" data-k5a-url=\"https://www.bt.dk/content/item/1707163\" data-lpurl=\"https://www.bt.dk/content/item/1707163\" ', '=\"https://www.bt.dk/erhverv/novo-sagsoegt-kvinde-oplever-mavelammelse-i-jagt-paa-vaegttab\">\\n<figure class=\"teaser__image\">\\n<img alt=\"Novo sagsøgt: Kvinde oplever mavelammelse i jagt på vægttab\" class=\"img-responsive\" src=\"https://bt.bmcdn.dk/media/cache/resolve/image_300x200/image/204/2044421/24491096-video-node-66887425-thumbnail.jpg\"/>\\n</figure>\\n<div class=\"teaser-body\">\\n<h2 class=\"teaser-body__header\">\\n                Novo sagsøgt: Kvinde oplever mavelammelse i jagt på vægttab\\n            </h2>\\n</div>\\n</a>\\n</article>, <article class=\"teaser teaser--flat\">\\n<a class=\"teaser__link\" data-k5a-url=\"https://www.bt.dk/content/item/1707158\" data-lpurl=\"https://www.bt.dk/content/item/1707158\" ', '=\"https://www.bt.dk/samfund/amerikansk-kvinde-sagsoeger-novo-nordisk\">\\n<figure class=\"teaser__image\">\\n<img alt=\"Amerikansk kvinde sagsøger Novo Nordisk\" class=\"img-responsive\" src=\"https://bt.bmcdn.dk/media/cache/resolve/image_300x200/image/204/2044440/24491157-file-photo-the-logo-of-danish-multinational-pharm.jpg\"/>\\n</figure>\\n<div class=\"teaser-body\">\\n<h2 class=\"teaser-body__header\">\\n                Amerikansk kvinde sagsøger Novo Nordisk\\n            </h2>\\n</div>\\n</a>\\n</article>, <article class=\"teaser teaser--flat\">\\n<a class=\"teaser__link\" data-k5a-url=\"https://www.bt.dk/content/item/1706530\" data-lpurl=\"https://www.bt.dk/content/item/1706530\" ', '=\"https://www.bt.dk/erhverv/novo-nordisk-er-begyndt-at-saelge-wegovy-i-tyskland\">\\n<figure class=\"teaser__image\">\\n<img alt=\"Novo Nordisk er begyndt at sælge Wegovy i Tyskland\" class=\"img-responsive\" src=\"https://bt.bmcdn.dk/media/cache/resolve/image_300x200/image/204/2042983/24488210-185-procent-af-den-tyske-befolkning-har-en-bmi-p.jpg\"/>\\n</figure>\\n<div class=\"teaser-body\">\\n<h2 class=\"teaser-body__header\">\\n                Novo Nordisk er begyndt at sælge Wegovy i Tyskland\\n            </h2>\\n</div>\\n</a>\\n</article>, <article class=\"teaser teaser--flat\">\\n<a class=\"teaser__link\" data-k5a-url=\"https://www.bt.dk/content/item/1705804\" data-lpurl=\"https://www.bt.dk/content/item/1705804\" ', '=\"https://www.bt.dk/erhverv/notat-skattelovgivning-er-vokset-med-over-en-million-ord\">\\n<figure class=\"teaser__image\">\\n<img alt=\"Notat: Skattelovgivning er vokset med over en million ord\" class=\"img-responsive\" src=\"https://bt.bmcdn.dk/media/cache/resolve/image_300x200/image/204/2041289/24484697-skattereglerne-er-blevet-alt-for-komplicerede-men.jpg\"/>\\n</figure>\\n<div class=\"teaser-body\">\\n<h2 class=\"teaser-body__header\">\\n                Notat: Skattelovgivning er vokset med over en million ord\\n            </h2>\\n</div>\\n</a>\\n</article>, <article class=\"teaser teaser--flat\">\\n<a class=\"teaser__link\" data-k5a-url=\"https://www.bt.dk/content/item/1705329\" data-lpurl=\"https://www.bt.dk/content/item/1705329\" ', '=\"https://www.bt.dk/erhverv/novo-kan-ikke-foelge-med-amerikanernes-jagt-paa-fedmemidler\">\\n<figure class=\"teaser__image\">\\n<img alt=\"Novo kan ikke følge med amerikanernes jagt på fedmemidler\" class=\"img-responsive\" src=\"https://bt.bmcdn.dk/media/cache/resolve/image_300x200/image/203/2039877/24482834-semaglutid-er-det-aktive-stof-der-findes-i-wegovy.jpg\"/>\\n</figure>\\n<div class=\"teaser-body\">\\n<h2 class=\"teaser-body__header\">\\n                Novo kan ikke følge med amerikanernes jagt på fedmemidler\\n            </h2>\\n</div>\\n</a>\\n</article>, <article class=\"teaser teaser--flat\">\\n<a class=\"teaser__link\" data-k5a-url=\"https://www.bt.dk/content/item/1704927\" data-lpurl=\"https://www.bt.dk/content/item/1704927\" ', '=\"https://www.bt.dk/samfund/ny-alzheimermedicin-giver-haab-siger-dansk-formand\">\\n<figure class=\"teaser__image\">\\n<img alt=\"Ny Alzheimermedicin giver håb, siger dansk formand\" class=\"img-responsive\" src=\"https://bt.bmcdn.dk/media/cache/resolve/image_300x200/image/203/2038808/24480733-.jpg\"/>\\n</figure>\\n<div class=\"teaser-body\">\\n<h2 class=\"teaser-body__header\">\\n                Ny Alzheimermedicin giver håb, siger dansk formand\\n            </h2>\\n</div>\\n</a>\\n</article>, <article class=\"teaser teaser--flat\">\\n<a class=\"teaser__link\" data-k5a-url=\"https://www.bt.dk/content/item/1704854\" data-lpurl=\"https://www.bt.dk/content/item/1704854\" ', '=\"https://www.bt.dk/udland/endelige-resultater-bekraefter-godt-alzheimers-nyt-fra-novo-rival-0\">\\n<figure class=\"teaser__image\">\\n<img alt=\"Endelige resultater bekræfter godt Alzheimers-nyt fra Novo-rival\" class=\"img-responsive\" src=\"https://bt.bmcdn.dk/media/cache/resolve/image_300x200/image/203/2038602/24480367-et-middel-mod-alzheimers-udviklet-af-det-amerikans.jpg\"/>\\n</figure>\\n<div class=\"teaser-body\">\\n<h2 class=\"teaser-body__header\">\\n                Endelige resultater bekræfter godt Alzheimers-nyt fra Novo-rival\\n            </h2>\\n</div>\\n</a>\\n</article>, <article class=\"teaser teaser--flat\">\\n<a class=\"teaser__link\" data-k5a-url=\"https://www.bt.dk/content/item/1704855\" data-lpurl=\"https://www.bt.dk/content/item/1704855\" ', '=\"https://www.bt.dk/udland/endelige-resultater-bekraefter-godt-alzheimers-nyt-fra-novo-rival\">\\n<figure class=\"teaser__image\">\\n<img alt=\"Endelige resultater bekræfter godt Alzheimers-nyt fra Novo-rival\" class=\"img-responsive\" src=\"https://bt.bmcdn.dk/media/cache/resolve/image_300x200/image/203/2038620/24480397-eli-lilly-er-blandt-de-strste-konkurrenter-for-da.jpg\"/>\\n</figure>\\n<div class=\"teaser-body\">\\n<h2 class=\"teaser-body__header\">\\n                Endelige resultater bekræfter godt Alzheimers-nyt fra Novo-rival\\n            </h2>\\n</div>\\n</a>\\n</article>, <article class=\"teaser teaser--flat\">\\n<a class=\"teaser__link\" data-k5a-url=\"https://www.bt.dk/content/item/1704257\" data-lpurl=\"https://www.bt.dk/content/item/1704257\" ', '=\"https://www.bt.dk/erhverv/novo-melder-om-restordre-paa-ozempic-flere-steder-i-verden\">\\n<figure class=\"teaser__image\">\\n<img alt=\"Novo melder om restordre på Ozempic flere steder i verden\" class=\"img-responsive\" src=\"https://bt.bmcdn.dk/media/cache/resolve/image_300x200/image/203/2036963/24477540-eftersprgslen-p-ozempic-er-steget-nu-melder-nov.jpg\"/>\\n</figure>\\n<div class=\"teaser-body\">\\n<h2 class=\"teaser-body__header\">\\n                Novo melder om restordre på Ozempic flere steder i verden\\n            </h2>\\n</div>\\n</a>\\n</article>, <article class=\"teaser teaser--flat\">\\n<a class=\"teaser__link\" data-k5a-url=\"https://www.bt.dk/content/item/1703793\" data-lpurl=\"https://www.bt.dk/content/item/1703793\" ', '=\"https://www.bt.dk/erhverv/novo-nordisk-vil-begynde-at-saelge-wegovy-i-tyskland\">\\n<figure class=\"teaser__image\">\\n<img alt=\"Novo Nordisk vil begynde at sælge Wegovy i Tyskland\" class=\"img-responsive\" src=\"https://bt.bmcdn.dk/media/cache/resolve/image_300x200/image/203/2035720/24475138-wegovy-blev-tilgngeligt-i-danmark-i-december-sids.jpg\"/>\\n</figure>\\n<div class=\"teaser-body\">\\n<h2 class=\"teaser-body__header\">\\n                Novo Nordisk vil begynde at sælge Wegovy i Tyskland\\n            </h2>\\n</div>\\n</a>\\n</article>, <article class=\"teaser teaser--flat\">\\n<a class=\"teaser__link\" data-k5a-url=\"https://www.bt.dk/content/item/1703393\" data-lpurl=\"https://www.bt.dk/content/item/1703393\" ', '=\"https://www.bt.dk/erhverv/novo-sagsoeger-apoteker-i-usa-for-salg-af-eget-vaegttabsmiddel\">\\n<figure class=\"teaser__image\">\\n<img alt=\"Novo sagsøger apoteker i USA for salg af eget vægttabsmiddel\" class=\"img-responsive\" src=\"https://bt.bmcdn.dk/media/cache/resolve/image_300x200/image/203/2034624/24473528-novo-nordisk-mener-at-apoteker-i-usa-har-solgt-we.jpg\"/>\\n</figure>\\n<div class=\"teaser-body\">\\n<h2 class=\"teaser-body__header\">\\n                Novo sagsøger apoteker i USA for salg af eget vægttabsmiddel\\n            </h2>\\n</div>\\n</a>\\n</article>, <article class=\"teaser teaser--flat\">\\n<a class=\"teaser__link\" data-k5a-url=\"https://www.bt.dk/content/item/1703041\" data-lpurl=\"https://www.bt.dk/content/item/1703041\" ', '=\"https://www.bt.dk/samfund/ny-slankemedicin-udbredes-blandt-boern-paa-trods-af-advarsler\">\\n<figure class=\"teaser__image\">\\n<img alt=\"Ny slankemedicin udbredes blandt børn på trods af advarsler\" class=\"img-responsive\" src=\"https://bt.bmcdn.dk/media/cache/resolve/image_300x200/image/203/2033566/24471614-arkiv-i-slutningen-af-maj-blev-novo-nordisk-slan.jpg\"/>\\n</figure>\\n<div class=\"teaser-body\">\\n<h2 class=\"teaser-body__header\">\\n                Ny slankemedicin udbredes blandt børn på trods af advarsler\\n            </h2>\\n</div>\\n</a>\\n</article>, <article class=\"teaser teaser--flat\">\\n<a class=\"teaser__link\" data-k5a-url=\"https://www.bt.dk/content/item/1702251\" data-lpurl=\"https://www.bt.dk/content/item/1702251\" ', '=\"https://www.bt.dk/samfund/forskere-advarer-om-novo-nordisks-vidundermidler-hold-oeje-med-patienterne\">\\n<figure class=\"teaser__image\">\\n<img alt=\"Forskere advarer om Novo Nordisks vidundermidler: Hold øje med patienterne\" class=\"img-responsive\" src=\"https://bt.bmcdn.dk/media/cache/resolve/image_300x200/image/203/2031419/24467981-arkiv-den-europiske-lgemiddelstyrelse-ema-er-g.jpg\"/>\\n</figure>\\n<div class=\"teaser-body\">\\n<h2 class=\"teaser-body__header\">\\n                Forskere advarer om Novo Nordisks vidundermidler: Hold øje med patienterne\\n            </h2>\\n</div>\\n</a>\\n</article>, <article class=\"teaser teaser--flat\">\\n<a class=\"teaser__link\" data-k5a-url=\"https://www.bt.dk/content/item/1701087\" data-lpurl=\"https://www.bt.dk/content/item/1701087\" ', '=\"https://www.bt.dk/erhverv/novos-vaegttabs-og-diabetesmidler-undersoeges-for-psykiske-bivirkninger\">\\n<figure class=\"teaser__image\">\\n<img alt=\"Novos vægttabs- og diabetesmidler undersøges for psykiske bivirkninger\" class=\"img-responsive\" src=\"https://bt.bmcdn.dk/media/cache/resolve/image_300x200/image/202/2028669/24462381-de-aktive-stoffer-semaglutid-og-liraglutid-som-br.jpg\"/>\\n</figure>\\n<div class=\"teaser-body\">\\n<h2 class=\"teaser-body__header\">\\n                Novos vægttabs- og diabetesmidler undersøges for psykiske bivirkninger\\n            </h2>\\n</div>\\n</a>\\n</article>, <article class=\"teaser teaser--flat\">\\n<a class=\"teaser__link\" data-k5a-url=\"https://www.bt.dk/content/item/1700919\" data-lpurl=\"https://www.bt.dk/content/item/1700919\" ', '=\"https://www.bt.dk/erhverv/efter-nyhed-om-mulig-kraeftrisiko-novo-aktier-sendt-i-roedt\">\\n<figure class=\"teaser__image\">\\n<img alt=\"Efter nyhed om mulig kræftrisiko: Novo-aktier sendt i rødt\" class=\"img-responsive\" src=\"https://bt.bmcdn.dk/media/cache/resolve/image_300x200/image/202/2028214/24461342-novo-nordisk-aktien-falder-efter-nyhed-om-mulig-kr.jpg\"/>\\n</figure>\\n<div class=\"teaser-body\">\\n<h2 class=\"teaser-body__header\">\\n                Efter nyhed om mulig kræftrisiko: Novo-aktier sendt i rødt\\n            </h2>\\n</div>\\n</a>\\n</article>, <article class=\"teaser teaser--flat\">\\n<a class=\"teaser__link\" data-k5a-url=\"https://www.bt.dk/content/item/1700911\" data-lpurl=\"https://www.bt.dk/content/item/1700911\" ', '=\"https://www.bt.dk/forbrug/lige-nu-novo-nordisk-aktien-falder\">\\n<div class=\"teaser-body\">\\n<h2 class=\"teaser-body__header\">\\n                LIGE NU: Novo Nordisk-aktien falder\\n            </h2>\\n</div>\\n</a>\\n</article>, <article class=\"teaser teaser--flat\">\\n<a class=\"teaser__link\" data-k5a-url=\"https://www.bt.dk/content/item/1700854\" data-lpurl=\"https://www.bt.dk/content/item/1700854\" ', '=\"https://www.bt.dk/samfund/slankemiddel-og-diabetesmedicin-undersoeges-for-at-oege-kraeftrisiko\">\\n<div class=\"teaser-body\">\\n<h2 class=\"teaser-body__header\">\\n                Slankemiddel og diabetesmedicin undersøges for at øge kræftrisiko\\n            </h2>\\n</div>\\n</a>\\n</article>, <article class=\"teaser teaser--flat\">\\n<a class=\"teaser__link\" data-k5a-url=\"https://www.bt.dk/content/item/1700794\" data-lpurl=\"https://www.bt.dk/content/item/1700794\" ', '=\"https://www.bt.dk/samfund/novo-nordisk-slankemiddel-undersoeges-for-at-oege-kraeftrisiko\">\\n<figure class=\"teaser__image\">\\n<img alt=\"Novo Nordisk-slankemiddel undersøges for at øge kræftrisiko\" class=\"img-responsive\" src=\"https://bt.bmcdn.dk/media/cache/resolve/image_300x200/image/202/2027950/24460745-den-europiske-lgemiddelstyrelse-ema-har-rejst-et.jpg\"/>\\n</figure>\\n<div class=\"teaser-body\">\\n<h2 class=\"teaser-body__header\">\\n                Novo Nordisk-slankemiddel undersøges for at øge kræftrisiko\\n            </h2>\\n</div>\\n</a>\\n</article>, <article class=\"teaser teaser--flat\">\\n<a class=\"teaser__link\" data-k5a-url=\"https://www.bt.dk/content/item/1700525\" data-lpurl=\"https://www.bt.dk/content/item/1700525\" ', '=\"https://www.bt.dk/forbrug/nordnet-om-dansk-medicinalselskab-igen-er-det-investorerne-som-betaler-gildet\">\\n<figure class=\"teaser__image\">\\n<img alt=\"Nordnet om dansk medicinalselskab: \\'Igen er det investorerne, som betaler gildet\\'\" class=\"img-responsive\" src=\"https://bt.bmcdn.dk/media/cache/resolve/image_300x200/image/202/2027340/24459274-.jpg\"/>\\n</figure>\\n<div class=\"teaser-body\">\\n<h2 class=\"teaser-body__header\">\\n                Nordnet om dansk medicinalselskab: \\'Igen er det investorerne, som betaler gildet\\'\\n            </h2>\\n</div>\\n</a>\\n</article>, <article class=\"teaser teaser--flat\">\\n<a class=\"teaser__link\" data-k5a-url=\"https://www.bt.dk/content/item/1700131\" data-lpurl=\"https://www.bt.dk/content/item/1700131\" ', '=\"https://www.bt.dk/politik/joachim-b-olsens-dom-venstre-vikaren-var-en-textbook\">\\n<figure class=\"teaser__image\">\\n<img alt=\"Joachim B. Olsens dom: Venstre-vikaren var en \\'textbook\\'\" class=\"img-responsive\" src=\"https://bt.bmcdn.dk/media/cache/resolve/image_300x200/image/202/2026480/24457675-troels-lund-poulsen-holder-venstres-partiledertale.jpg\"/>\\n</figure>\\n<div class=\"teaser-body\">\\n<h2 class=\"teaser-body__header\">\\n                Joachim B. Olsens dom: Venstre-vikaren var en \\'textbook\\'\\n            </h2>\\n</div>\\n</a>\\n</article>, <article class=\"teaser teaser--flat\">\\n<a class=\"teaser__link\" data-k5a-url=\"https://www.bt.dk/content/item/1699126\" data-lpurl=\"https://www.bt.dk/content/item/1699126\" ', '=\"https://www.bt.dk/erhverv/novo-nordisk-vil-investere-159-milliarder-kroner-i-dansk-fabrik\">\\n<figure class=\"teaser__image\">\\n<img alt=\"Novo Nordisk vil investere 15,9 milliarder kroner i dansk fabrik\" class=\"img-responsive\" src=\"https://bt.bmcdn.dk/media/cache/resolve/image_300x200/image/202/2024398/24453166-novo-nordisk-vil-investere-159-milliarder-kroner.jpg\"/>\\n</figure>\\n<div class=\"teaser-body\">\\n<h2 class=\"teaser-body__header\">\\n                Novo Nordisk vil investere 15,9 milliarder kroner i dansk fabrik\\n            </h2>\\n</div>\\n</a>\\n</article>, <article class=\"teaser teaser--flat\">\\n<a class=\"teaser__link\" data-k5a-url=\"https://www.bt.dk/content/item/1698637\" data-lpurl=\"https://www.bt.dk/content/item/1698637\" ', '=\"https://www.bt.dk/erhverv/novo-nordisk-fonden-afsaetter-120-millioner-til-forskning-i-kernekraft\">\\n<div class=\"teaser-body\">\\n<h2 class=\"teaser-body__header\">\\n                Novo Nordisk Fonden afsætter 120 millioner til forskning i kernekraft\\n            </h2>\\n</div>\\n</a>\\n</article>, <article class=\"teaser teaser--flat\">\\n<a class=\"teaser__link\" data-k5a-url=\"https://www.bt.dk/content/item/1698413\" data-lpurl=\"https://www.bt.dk/content/item/1698413\" ', '=\"https://www.bt.dk/udland/storbritannien-vil-give-flere-adgang-til-novo-slankemiddel\">\\n<div class=\"teaser-body\">\\n<h2 class=\"teaser-body__header\">\\n                Storbritannien vil give flere adgang til Novo-slankemiddel\\n            </h2>\\n</div>\\n</a>\\n</article>, <article class=\"teaser teaser--flat\">\\n<a class=\"teaser__link\" data-k5a-url=\"https://www.bt.dk/content/item/1698243\" data-lpurl=\"https://www.bt.dk/content/item/1698243\" ', '=\"https://www.bt.dk/samfund/myndighed-ser-for-stort-brug-af-novo-nordisks-diabetesmedicin\">\\n<div class=\"teaser-body\">\\n<h2 class=\"teaser-body__header\">\\n                Myndighed ser for stort brug af Novo Nordisks diabetesmedicin\\n            </h2>\\n</div>\\n</a>\\n</article>, <article class=\"teaser teaser--flat\">\\n<a class=\"teaser__link\" data-k5a-url=\"https://www.bt.dk/content/item/1697994\" data-lpurl=\"https://www.bt.dk/content/item/1697994\" ', '=\"https://www.bt.dk/samfund/har-indledt-eksklusive-forhandlinger-novo-nordisk-vil-koebe-fransk-selskab\">\\n<figure class=\"teaser__image\">\\n<img alt=\"Har indledt \\'eksklusive forhandlinger\\': Novo Nordisk vil købe fransk selskab\" class=\"img-responsive\" src=\"https://bt.bmcdn.dk/media/cache/resolve/image_300x200/image/202/2021525/24447584-arkivfoto.jpg\"/>\\n</figure>\\n<div class=\"teaser-body\">\\n<h2 class=\"teaser-body__header\">\\n                Har indledt \\'eksklusive forhandlinger\\': Novo Nordisk vil købe fransk selskab\\n            </h2>\\n</div>\\n</a>\\n</article>, <article class=\"teaser teaser--flat\">\\n<a class=\"teaser__link\" data-k5a-url=\"https://www.bt.dk/content/item/1697420\" data-lpurl=\"https://www.bt.dk/content/item/1697420\" ', '=\"https://www.bt.dk/udland/amerikansk-styrelse-advarer-mod-kopiversioner-af-slankemidler\">\\n<figure class=\"teaser__image\">\\n<img alt=\"Amerikansk styrelse advarer mod kopiversioner af slankemidler\" class=\"img-responsive\" src=\"https://bt.bmcdn.dk/media/cache/resolve/image_300x200/image/201/2019972/24445191-file-photo-illustrations-of-wegovy-injector-pens.jpg\"/>\\n</figure>\\n<div class=\"teaser-body\">\\n<h2 class=\"teaser-body__header\">\\n                Amerikansk styrelse advarer mod kopiversioner af slankemidler\\n            </h2>\\n</div>\\n</a>\\n</article>, <article class=\"teaser teaser--flat\">\\n<a class=\"teaser__link\" data-k5a-url=\"https://www.bt.dk/content/item/1696780\" data-lpurl=\"https://www.bt.dk/content/item/1696780\" ', '=\"https://www.bt.dk/superligaen/lyngby-spillers-vanvittige-uge-blev-far-to-dage-foer-bundgyser\">\\n<figure class=\"teaser__image\">\\n<img alt=\"Lyngby-spillers vanvittige uge: Blev far to dage før bundgyser\" class=\"img-responsive\" src=\"https://bt.bmcdn.dk/media/cache/resolve/image_300x200/image/201/2018439/24441926-3.jpg\"/>\\n</figure>\\n<div class=\"teaser-body\">\\n<h2 class=\"teaser-body__header\">\\n                Lyngby-spillers vanvittige uge: Blev far to dage før bundgyser\\n            </h2>\\n</div>\\n</a>\\n</article>, <article class=\"teaser teaser--flat\">\\n<a class=\"teaser__link\" data-k5a-url=\"https://www.bt.dk/content/item/1696165\" data-lpurl=\"https://www.bt.dk/content/item/1696165\" ', '=\"https://www.bt.dk/erhverv/recepter-paa-populaert-slankemiddel-stiger-igen-i-april\">\\n<figure class=\"teaser__image\">\\n<img alt=\"Recepter på populært slankemiddel stiger igen i april\" class=\"img-responsive\" src=\"https://bt.bmcdn.dk/media/cache/resolve/image_300x200/image/201/2017324/24440218-file-photo-illustrations-of-w.jpeg\"/>\\n</figure>\\n<div class=\"teaser-body\">\\n<h2 class=\"teaser-body__header\">\\n                Recepter på populært slankemiddel stiger igen i april\\n            </h2>\\n</div>\\n</a>\\n</article>, <article class=\"teaser teaser--flat\">\\n<a class=\"teaser__link\" data-k5a-url=\"https://www.bt.dk/content/item/1695207\" data-lpurl=\"https://www.bt.dk/content/item/1695207\" ', '=\"https://www.bt.dk/samfund/novo-kritisk-laegeformand-fik-tilbudt-klaekkeligt-beloeb-af-novo-nordisk-de-ville\">\\n<figure class=\"teaser__image\">\\n<img alt=\"Novo-kritisk lægeformand fik tilbudt klækkeligt beløb af Novo Nordisk: \\'De ville købe min loyalitet\\'\" class=\"img-responsive\" src=\"https://bt.bmcdn.dk/media/cache/resolve/image_300x200/image/201/2015388/24436211-video-node-66794514-thumbnail.jpg\"/>\\n</figure>\\n<div class=\"teaser-body\">\\n<h2 class=\"teaser-body__header\">\\n                Novo-kritisk lægeformand fik tilbudt klækkeligt beløb af Novo Nordisk: \\'De ville købe min loyalitet\\'\\n            </h2>\\n</div>\\n</a>\\n</article>, <article class=\"teaser teaser--flat\">\\n<a class=\"teaser__link\" data-k5a-url=\"https://www.bt.dk/content/item/1695066\" data-lpurl=\"https://www.bt.dk/content/item/1695066\" ', '=\"https://www.bt.dk/erhverv/vaegttabstablet-fra-novo-viser-resultater-svarende-til-wegovy\">\\n<figure class=\"teaser__image\">\\n<img alt=\"Vægttabstablet fra Novo viser resultater svarende til Wegovy\" class=\"img-responsive\" src=\"https://bt.bmcdn.dk/media/cache/resolve/image_300x200/image/201/2015118/24435759-file-photo-the-logo-of-danish.jpeg\"/>\\n</figure>\\n<div class=\"teaser-body\">\\n<h2 class=\"teaser-body__header\">\\n                Vægttabstablet fra Novo viser resultater svarende til Wegovy\\n            </h2>\\n</div>\\n</a>\\n</article>, <article class=\"teaser teaser--flat\">\\n<a class=\"teaser__link\" data-k5a-url=\"https://www.bt.dk/content/item/1693832\" data-lpurl=\"https://www.bt.dk/content/item/1693832\" ', '=\"https://www.bt.dk/forbrug/denne-danske-virksomhed-maa-ikke-gaa-ned-er-nu-stoerre-end-coca-cola\">\\n<figure class=\"teaser__image\">\\n<img alt=\"Denne danske virksomhed må ikke gå ned: Er nu større end Coca-Cola\" class=\"img-responsive\" src=\"https://bt.bmcdn.dk/media/cache/resolve/image_300x200/image/201/2013170/24432497-video-node-66787801-thumbnail.jpg\"/>\\n</figure>\\n<div class=\"teaser-body\">\\n<h2 class=\"teaser-body__header\">\\n                Denne danske virksomhed må ikke gå ned: Er nu større end Coca-Cola\\n            </h2>\\n</div>\\n</a>\\n</article>, <article class=\"teaser teaser--flat\">\\n<a class=\"teaser__link\" data-k5a-url=\"https://www.bt.dk/content/item/1693818\" data-lpurl=\"https://www.bt.dk/content/item/1693818\" ', '=\"https://www.bt.dk/samfund/styrelse-sender-huskebrev-til-apoteker-efter-omtale-af-slankemiddel\">\\n<figure class=\"teaser__image\">\\n<img alt=\"Styrelse sender huskebrev til apoteker efter omtale af slankemiddel\" class=\"img-responsive\" src=\"https://bt.bmcdn.dk/media/cache/resolve/image_300x200/image/201/2013080/24432272-ozempic-og-wegovy---2023051713.jpeg\"/>\\n</figure>\\n<div class=\"teaser-body\">\\n<h2 class=\"teaser-body__header\">\\n                Styrelse sender huskebrev til apoteker efter omtale af slankemiddel\\n            </h2>\\n</div>\\n</a>\\n</article>, <article class=\"teaser teaser--flat\">\\n<a class=\"teaser__link\" data-k5a-url=\"https://www.bt.dk/content/item/1691795\" data-lpurl=\"https://www.bt.dk/content/item/1691795\" ', '=\"https://www.bt.dk/forbrug/dansk-biotekfirma-med-nyt-laegemiddel-gaa-15-procent-ned-i-vaegt-paa-46-uger\">\\n<figure class=\"teaser__image\">\\n<img alt=\"Dansk biotekfirma med nyt lægemiddel: Gå 15 procent ned i vægt på 46 uger\" class=\"img-responsive\" src=\"https://bt.bmcdn.dk/media/cache/resolve/image_300x200/image/200/2009362/24424845-zealand-pharma-boehringerobesity-drug.jpg\"/>\\n</figure>\\n<div class=\"teaser-body\">\\n<h2 class=\"teaser-body__header\">\\n                Dansk biotekfirma med nyt lægemiddel: Gå 15 procent ned i vægt på 46 uger\\n            </h2>\\n</div>\\n</a>\\n</article>, <article class=\"teaser teaser--flat\">\\n<a class=\"teaser__link\" data-k5a-url=\"https://www.bt.dk/content/item/1691804\" data-lpurl=\"https://www.bt.dk/content/item/1691804\" ', '=\"https://www.bt.dk/erhverv/dansk-biotekfirma-faar-gode-resultater-for-mulig-wegovy-konkurrent\">\\n<figure class=\"teaser__image\">\\n<img alt=\"Dansk biotekfirma får gode resultater for mulig Wegovy-konkurrent\" class=\"img-responsive\" src=\"https://bt.bmcdn.dk/media/cache/resolve/image_300x200/image/200/2009393/24424943-ozempic-og-wegovy---2023051012.jpeg\"/>\\n</figure>\\n<div class=\"teaser-body\">\\n<h2 class=\"teaser-body__header\">\\n                Dansk biotekfirma får gode resultater for mulig Wegovy-konkurrent\\n            </h2>\\n</div>\\n</a>\\n</article>, <article class=\"teaser teaser--flat\">\\n<a class=\"teaser__link\" data-k5a-url=\"https://www.bt.dk/content/item/1691374\" data-lpurl=\"https://www.bt.dk/content/item/1691374\" ', '=\"https://www.bt.dk/forbrug/brager-op-god-dag-for-danske-topaktier-det-betyder-det-for-dig\">\\n<figure class=\"teaser__image\">\\n<img alt=\"Brager op: God dag for danske topaktier – det betyder det for dig\" class=\"img-responsive\" src=\"https://bt.bmcdn.dk/media/cache/resolve/image_300x200/image/200/2008513/24423210-video-node-66772361-thumbnail.jpg\"/>\\n</figure>\\n<div class=\"teaser-body\">\\n<h2 class=\"teaser-body__header\">\\n                Brager op: God dag for danske topaktier – det betyder det for dig\\n            </h2>\\n</div>\\n</a>\\n</article>, <article class=\"teaser teaser--flat\">\\n<a class=\"teaser__link\" data-k5a-url=\"https://www.bt.dk/content/item/1690359\" data-lpurl=\"https://www.bt.dk/content/item/1690359\" ', '=\"https://www.bt.dk/erhverv/novo-nordisk-maa-skrue-ned-for-adgang-til-vaegttabsmiddel-i-usa\">\\n<figure class=\"teaser__image\">\\n<img alt=\"Novo Nordisk må skrue ned for adgang til vægttabsmiddel i USA\" class=\"img-responsive\" src=\"https://bt.bmcdn.dk/media/cache/resolve/image_300x200/image/200/2006692/24419951-illustrations-of-wegovy-inject.jpeg\"/>\\n</figure>\\n<div class=\"teaser-body\">\\n<h2 class=\"teaser-body__header\">\\n                Novo Nordisk må skrue ned for adgang til vægttabsmiddel i USA\\n            </h2>\\n</div>\\n</a>\\n</article>, <article class=\"teaser teaser--flat\">\\n<a class=\"teaser__link\" data-k5a-url=\"https://www.bt.dk/content/item/1690302\" data-lpurl=\"https://www.bt.dk/content/item/1690302\" ', '=\"https://www.bt.dk/erhverv/salg-af-fedmemidler-sender-resultatet-i-novo-nordisk-i-vejret\">\\n<figure class=\"teaser__image\">\\n<img alt=\"Salg af fedmemidler sender resultatet i Novo Nordisk i vejret\" class=\"img-responsive\" src=\"https://bt.bmcdn.dk/media/cache/resolve/image_300x200/image/200/2006562/24419605-ozempic-and-wegovy---202305040.jpeg\"/>\\n</figure>\\n<div class=\"teaser-body\">\\n<h2 class=\"teaser-body__header\">\\n                Salg af fedmemidler sender resultatet i Novo Nordisk i vejret\\n            </h2>\\n</div>\\n</a>\\n</article>, <article class=\"teaser teaser--flat\">\\n<a class=\"teaser__link\" data-k5a-url=\"https://www.bt.dk/content/item/1690295\" data-lpurl=\"https://www.bt.dk/content/item/1690295\" ', '=\"https://www.bt.dk/udland/vigtig-froesamling-er-reddet-ud-af-krigsramt-by-i-ukraine\">\\n<figure class=\"teaser__image\">\\n<img alt=\"Vigtig frøsamling er reddet ud af krigsramt by i Ukraine\" class=\"img-responsive\" src=\"https://bt.bmcdn.dk/media/cache/resolve/image_300x200/image/200/2006519/24419510-redning-af-fr---2023050406551.jpeg\"/>\\n</figure>\\n<div class=\"teaser-body\">\\n<h2 class=\"teaser-body__header\">\\n                Vigtig frøsamling er reddet ud af krigsramt by i Ukraine\\n            </h2>\\n</div>\\n</a>\\n</article>, <article class=\"teaser teaser--flat\">\\n<a class=\"teaser__link\" data-k5a-url=\"https://www.bt.dk/content/item/1690170\" data-lpurl=\"https://www.bt.dk/content/item/1690170\" ', '=\"https://www.bt.dk/erhverv/novo-rival-faar-lovende-testresultater-for-nyt-middel-mod-alzheimers\">\\n<figure class=\"teaser__image\">\\n<img alt=\"Novo-rival får lovende testresultater for nyt middel mod Alzheimers\" class=\"img-responsive\" src=\"https://bt.bmcdn.dk/media/cache/resolve/image_300x200/image/200/2006345/24419157-file-photo-an-eli-lilly-and-c.jpeg\"/>\\n</figure>\\n<div class=\"teaser-body\">\\n<h2 class=\"teaser-body__header\">\\n                Novo-rival får lovende testresultater for nyt middel mod Alzheimers\\n            </h2>\\n</div>\\n</a>\\n</article>, <article class=\"teaser teaser--flat\">\\n<a class=\"teaser__link\" data-k5a-url=\"https://www.bt.dk/content/item/1689508\" data-lpurl=\"https://www.bt.dk/content/item/1689508\" ', '=\"https://www.bt.dk/samfund/rockwool-ansatte-er-blevet-hvervet-til-putins-krig-i-ukraine\">\\n<figure class=\"teaser__image\">\\n<img alt=\"Rockwool-ansatte er blevet hvervet til Putins krig i Ukraine\" class=\"img-responsive\" src=\"https://bt.bmcdn.dk/media/cache/resolve/image_300x200/image/200/2004944/24416243-video-node-66760720-thumbnail.jpg\"/>\\n</figure>\\n<div class=\"teaser-body\">\\n<h2 class=\"teaser-body__header\">\\n                Rockwool-ansatte er blevet hvervet til Putins krig i Ukraine\\n            </h2>\\n</div>\\n</a>\\n</article>, <article class=\"teaser teaser--flat\">\\n<a class=\"teaser__link\" data-k5a-url=\"https://www.bt.dk/content/item/1688563\" data-lpurl=\"https://www.bt.dk/content/item/1688563\" ', '=\"https://www.bt.dk/udland/minister-bakker-medicinalindustrien-op-eu-reform-er-bekymrende\">\\n<figure class=\"teaser__image\">\\n<img alt=\"Minister bakker medicinalindustrien op: EU-reform er bekymrende\" class=\"img-responsive\" src=\"https://bt.bmcdn.dk/media/cache/resolve/image_300x200/image/200/2003424/24413508-mde-i-salen-med-udvidet-parti.jpeg\"/>\\n</figure>\\n<div class=\"teaser-body\">\\n<h2 class=\"teaser-body__header\">\\n                Minister bakker medicinalindustrien op: EU-reform er bekymrende\\n            </h2>\\n</div>\\n</a>\\n</article>, <article class=\"teaser teaser--flat\">\\n<a class=\"teaser__link\" data-k5a-url=\"https://www.bt.dk/content/item/1688503\" data-lpurl=\"https://www.bt.dk/content/item/1688503\" ', '=\"https://www.bt.dk/samfund/wegovy-er-paa-kort-tid-blevet-dominerende-vaegttabsmiddel\">\\n<figure class=\"teaser__image\">\\n<img alt=\"Wegovy er på kort tid blevet dominerende vægttabsmiddel\" class=\"img-responsive\" src=\"https://bt.bmcdn.dk/media/cache/resolve/image_300x200/image/200/2003332/24413247-video-node-66755523-thumbnail.jpg\"/>\\n</figure>\\n<div class=\"teaser-body\">\\n<h2 class=\"teaser-body__header\">\\n                Wegovy er på kort tid blevet dominerende vægttabsmiddel\\n            </h2>\\n</div>\\n</a>\\n</article>, <article class=\"teaser teaser--flat\">\\n<a class=\"teaser__link\" data-k5a-url=\"https://www.bt.dk/content/item/1688213\" data-lpurl=\"https://www.bt.dk/content/item/1688213\" ', '=\"https://www.bt.dk/politik/styrelse-undersoeger-to-sager-om-recepter-fra-onlinelaeger\">\\n<div class=\"teaser-body\">\\n<h2 class=\"teaser-body__header\">\\n                Styrelse undersøger to sager om recepter fra onlinelæger\\n            </h2>\\n</div>\\n</a>\\n</article>, <article class=\"teaser teaser--flat\">\\n<a class=\"teaser__link\" data-k5a-url=\"https://www.bt.dk/content/item/1688084\" data-lpurl=\"https://www.bt.dk/content/item/1688084\" ', '=\"https://www.bt.dk/samfund/ordfoerere-kraever-svar-fra-minister-om-onlinelaeger\">\\n<figure class=\"teaser__image\">\\n<img alt=\"Ordførere kræver svar fra minister om onlinelæger\" class=\"img-responsive\" src=\"https://bt.bmcdn.dk/media/cache/resolve/image_300x200/image/200/2002509/24411423-enhedslisten-holder-pressemde.jpeg\"/>\\n</figure>\\n<div class=\"teaser-body\">\\n<h2 class=\"teaser-body__header\">\\n                Ordførere kræver svar fra minister om onlinelæger\\n            </h2>\\n</div>\\n</a>\\n</article>, <article class=\"teaser teaser--flat\">\\n<a class=\"teaser__link\" data-k5a-url=\"https://www.bt.dk/content/item/1687911\" data-lpurl=\"https://www.bt.dk/content/item/1687911\" ', '=\"https://www.bt.dk/erhverv/novo-nordisk-bruger-milliarder-paa-tv-reklamer-i-usa\">\\n<figure class=\"teaser__image\">\\n<img alt=\"Novo Nordisk bruger milliarder på tv-reklamer i USA\" class=\"img-responsive\" src=\"https://bt.bmcdn.dk/media/cache/resolve/image_300x200/image/200/2002227/24410865-france-health-tiktok-ozempic--.jpeg\"/>\\n</figure>\\n<div class=\"teaser-body\">\\n<h2 class=\"teaser-body__header\">\\n                Novo Nordisk bruger milliarder på tv-reklamer i USA\\n            </h2>\\n</div>\\n</a>\\n</article>, <article class=\"teaser teaser--flat\">\\n<a class=\"teaser__link\" data-k5a-url=\"https://www.bt.dk/content/item/1687659\" data-lpurl=\"https://www.bt.dk/content/item/1687659\" ', '=\"https://www.bt.dk/erhverv/luksusselskab-naar-uset-markedsvaerdi-for-europaeisk-selskab\">\\n<figure class=\"teaser__image\">\\n<img alt=\"Luksusselskab når uset markedsværdi for europæisk selskab\" class=\"img-responsive\" src=\"https://bt.bmcdn.dk/media/cache/resolve/image_300x200/image/200/2001742/24409820-files-france-economy-luxury--.jpeg\"/>\\n</figure>\\n<div class=\"teaser-body\">\\n<h2 class=\"teaser-body__header\">\\n                Luksusselskab når uset markedsværdi for europæisk selskab\\n            </h2>\\n</div>\\n</a>\\n</article>, <article class=\"teaser teaser--flat\">\\n<a class=\"teaser__link\" data-k5a-url=\"https://www.bt.dk/content/item/1687621\" data-lpurl=\"https://www.bt.dk/content/item/1687621\" ', '=\"https://www.bt.dk/erhverv/novo-nordisk-konkurrent-vil-sammenligne-fedmemidler-i-nyt-studie\">\\n<figure class=\"teaser__image\">\\n<img alt=\"Novo Nordisk-konkurrent vil sammenligne fedmemidler i nyt studie\" class=\"img-responsive\" src=\"https://bt.bmcdn.dk/media/cache/resolve/image_300x200/image/200/2001648/24409659-ozempic-is-displayed-in-a-phar.jpeg\"/>\\n</figure>\\n<div class=\"teaser-body\">\\n<h2 class=\"teaser-body__header\">\\n                Novo Nordisk-konkurrent vil sammenligne fedmemidler i nyt studie\\n            </h2>\\n</div>\\n</a>\\n</article>, <article class=\"teaser teaser--flat\">\\n<a class=\"teaser__link\" data-k5a-url=\"https://www.bt.dk/content/item/1685835\" data-lpurl=\"https://www.bt.dk/content/item/1685835\" ', '=\"https://www.bt.dk/samfund/novo-nordisks-slankemedicin-vurderes-for-dyrt-de-tager-de-priser-de-kan-faa\">\\n<figure class=\"teaser__image\">\\n<img alt=\"Novo Nordisks slankemedicin vurderes for dyrt: \\'De tager de priser, de kan få\\'\" class=\"img-responsive\" src=\"https://bt.bmcdn.dk/media/cache/resolve/image_300x200/image/199/1998673/24403982-video-node-66739047-thumbnail.jpg\"/>\\n</figure>\\n<div class=\"teaser-body\">\\n<h2 class=\"teaser-body__header\">\\n                Novo Nordisks slankemedicin vurderes for dyrt: \\'De tager de priser, de kan få\\'\\n            </h2>\\n</div>\\n</a>\\n</article>, <article class=\"teaser teaser--flat\">\\n<a class=\"teaser__link\" data-k5a-url=\"https://www.bt.dk/content/item/1686858\" data-lpurl=\"https://www.bt.dk/content/item/1686858\" ', '=\"https://www.bt.dk/politik/dansk-folkeparti-vil-goere-populaer-vaegttabsmedicin-billigere-man-faar-jo-ogsaa\">\\n<figure class=\"teaser__image\">\\n<img alt=\"Dansk Folkeparti vil gøre populær vægttabsmedicin billigere: \\'Man får jo også hjælp til rygestop\\'\" class=\"img-responsive\" src=\"https://bt.bmcdn.dk/media/cache/resolve/image_300x200/image/200/2000356/24407627-.jpg\"/>\\n</figure>\\n<div class=\"teaser-body\">\\n<h2 class=\"teaser-body__header\">\\n                Dansk Folkeparti vil gøre populær vægttabsmedicin billigere: \\'Man får jo også hjælp til rygestop\\'\\n            </h2>\\n</div>\\n</a>\\n</article>, <article class=\"teaser teaser--flat\">\\n<a class=\"teaser__link\" data-k5a-url=\"https://www.bt.dk/content/item/1686364\" data-lpurl=\"https://www.bt.dk/content/item/1686364\" ', '=\"https://www.bt.dk/samfund/novos-nye-fedmemiddel-er-en-storsaellert-men-brugere-oplever-uventet-bivirkning\">\\n<figure class=\"teaser__image\">\\n<img alt=\"Novos nye fedmemiddel er en storsællert: Men brugere oplever uventet bivirkning\" class=\"img-responsive\" src=\"https://bt.bmcdn.dk/media/cache/resolve/image_300x200/image/199/1999454/24405149-usa-health.jpg\"/>\\n</figure>\\n<div class=\"teaser-body\">\\n<h2 class=\"teaser-body__header\">\\n                Novos nye fedmemiddel er en storsællert: Men brugere oplever uventet bivirkning\\n            </h2>\\n</div>\\n</a>\\n</article>, <article class=\"teaser teaser--flat\">\\n<a class=\"teaser__link\" data-k5a-url=\"https://www.bt.dk/content/item/1684834\" data-lpurl=\"https://www.bt.dk/content/item/1684834\" ', '=\"https://www.bt.dk/erhverv/novo-nordisk-runder-2500-milliarder-kroner-i-vaerdi\">\\n<div class=\"teaser-body\">\\n<h2 class=\"teaser-body__header\">\\n                Novo Nordisk runder 2.500 milliarder kroner i værdi\\n            </h2>\\n</div>\\n</a>\\n</article>, <article class=\"teaser teaser--flat\">\\n<a class=\"teaser__link\" data-k5a-url=\"https://www.bt.dk/content/item/1684764\" data-lpurl=\"https://www.bt.dk/content/item/1684764\" ', '=\"https://www.bt.dk/erhverv/staerkt-salg-af-vaegttabsmiddel-faar-novo-nordisk-til-at-opjustere\">\\n<div class=\"teaser-body\">\\n<h2 class=\"teaser-body__header\">\\n                Stærkt salg af vægttabsmiddel får Novo Nordisk til at opjustere\\n            </h2>\\n</div>\\n</a>\\n</article>, <article class=\"teaser teaser--flat\">\\n<a class=\"teaser__link\" data-k5a-url=\"https://www.bt.dk/content/item/1684759\" data-lpurl=\"https://www.bt.dk/content/item/1684759\" ', '=\"https://www.bt.dk/forbrug/novo-nordisk-i-gigantisk-opjustering-efter-god-start-paa-2023\">\\n<figure class=\"teaser__image\">\\n<img alt=\"Novo Nordisk i gigantisk opjustering efter god start på 2023\" class=\"img-responsive\" src=\"https://bt.bmcdn.dk/media/cache/resolve/image_300x200/image/199/1996722/24400149-novo-nordisk-store-vksthb-trkker-salget-frem.jpg\"/>\\n</figure>\\n<div class=\"teaser-body\">\\n<h2 class=\"teaser-body__header\">\\n                Novo Nordisk i gigantisk opjustering efter god start på 2023\\n            </h2>\\n</div>\\n</a>\\n</article>, <article class=\"teaser teaser--flat\">\\n<a class=\"teaser__link\" data-k5a-url=\"https://www.bt.dk/content/item/1682826\" data-lpurl=\"https://www.bt.dk/content/item/1682826\" ', '=\"https://www.bt.dk/samfund/flere-af-lenes-klienter-tager-novo-nordisks-slankemedicin-inden-for-fem-aar\">\\n<figure class=\"teaser__image\">\\n<img alt=\"Flere af Lenes klienter tager Novo Nordisks slankemedicin: \\'Inden for fem år risikerer vi at give det til børn\\'\" class=\"img-responsive\" src=\"https://bt.bmcdn.dk/media/cache/resolve/image_300x200/image/199/1993050/24393711-cellulite.jpg\"/>\\n</figure>\\n<div class=\"teaser-body\">\\n<h2 class=\"teaser-body__header\">\\n                Flere af Lenes klienter tager Novo Nordisks slankemedicin: \\'Inden for fem år risikerer vi at give det til børn\\'\\n            </h2>\\n</div>\\n</a>\\n</article>, <article class=\"teaser teaser--flat\">\\n<a class=\"teaser__link\" data-k5a-url=\"https://www.bt.dk/content/item/1682995\" data-lpurl=\"https://www.bt.dk/content/item/1682995\" ', '=\"https://www.bt.dk/samfund/medie-novo-nordisk-lobby-stod-bag-ekspertgruppe-om-fedme\">\\n<figure class=\"teaser__image\">\\n<img alt=\"Medie: Novo Nordisk-lobby stod bag ekspertgruppe om fedme\" class=\"img-responsive\" src=\"https://bt.bmcdn.dk/media/cache/resolve/image_300x200/image/199/1993309/24394223-novo.jpg\"/>\\n</figure>\\n<div class=\"teaser-body\">\\n<h2 class=\"teaser-body__header\">\\n                Medie: Novo Nordisk-lobby stod bag ekspertgruppe om fedme\\n            </h2>\\n</div>\\n</a>\\n</article>, <article class=\"teaser teaser--flat\">\\n<a class=\"teaser__link\" data-k5a-url=\"https://www.bt.dk/content/item/1682601\" data-lpurl=\"https://www.bt.dk/content/item/1682601\" ', '=\"https://www.bt.dk/erhverv/novo-dropper-salg-i-rusland-af-sit-bedst-saelgende-laegemiddel\">\\n<figure class=\"teaser__image\">\\n<img alt=\"Novo dropper salg i Rusland af sit bedst sælgende lægemiddel\" class=\"img-responsive\" src=\"https://bt.bmcdn.dk/media/cache/resolve/image_300x200/image/199/1992470/24392468-ozempic---20230403143126369_or.jpeg\"/>\\n</figure>\\n<div class=\"teaser-body\">\\n<h2 class=\"teaser-body__header\">\\n                Novo dropper salg i Rusland af sit bedst sælgende lægemiddel\\n            </h2>\\n</div>\\n</a>\\n</article>, <article class=\"teaser teaser--flat\">\\n<a class=\"teaser__link\" data-k5a-url=\"https://www.bt.dk/content/item/1680970\" data-lpurl=\"https://www.bt.dk/content/item/1680970\" ', '=\"https://www.bt.dk/samfund/laegeformand-kritiserer-novo-nordisks-promovering-af-slankemedicin-det\">\\n<figure class=\"teaser__image\">\\n<img alt=\"Lægeformand kritiserer Novo Nordisks promovering af slankemedicin: \\'Det stigmatiserer og skaber ulykkelighed\\'\" class=\"img-responsive\" src=\"https://bt.bmcdn.dk/media/cache/resolve/image_300x200/image/199/1990527/24388848-tgrwy.jpg\"/>\\n</figure>\\n<div class=\"teaser-body\">\\n<h2 class=\"teaser-body__header\">\\n                Lægeformand kritiserer Novo Nordisks promovering af slankemedicin: \\'Det stigmatiserer og skaber ulykkelighed\\'\\n            </h2>\\n</div>\\n</a>\\n</article>, <article class=\"teaser teaser--flat\">\\n<a class=\"teaser__link\" data-k5a-url=\"https://www.bt.dk/content/item/1681797\" data-lpurl=\"https://www.bt.dk/content/item/1681797\" ', '=\"https://www.bt.dk/erhverv/novo-nordisk-selskab-vil-udvide-produktion-og-koeber-grund-i-koege\">\\n<figure class=\"teaser__image\">\\n<img alt=\"Novo Nordisk-selskab vil udvide produktion og køber grund i Køge\" class=\"img-responsive\" src=\"https://bt.bmcdn.dk/media/cache/resolve/image_300x200/image/199/1991084/24390053-file-photo-the-logo-of-danish.jpeg\"/>\\n</figure>\\n<div class=\"teaser-body\">\\n<h2 class=\"teaser-body__header\">\\n                Novo Nordisk-selskab vil udvide produktion og køber grund i Køge\\n            </h2>\\n</div>\\n</a>\\n</article>, <article class=\"teaser teaser--flat\">\\n<a class=\"teaser__link\" data-k5a-url=\"https://www.bt.dk/content/item/1681566\" data-lpurl=\"https://www.bt.dk/content/item/1681566\" ', '=\"https://www.bt.dk/erhverv/aktionaerer-i-novozymes-og-chr-hansen-stemmer-ja-til-fusion\">\\n<figure class=\"teaser__image\">\\n<img alt=\"Aktionærer i Novozymes og Chr. Hansen stemmer ja til fusion\" class=\"img-responsive\" src=\"https://bt.bmcdn.dk/media/cache/resolve/image_300x200/image/199/1990713/24389362-ester-baiget---202303301438087.jpeg\"/>\\n</figure>\\n<div class=\"teaser-body\">\\n<h2 class=\"teaser-body__header\">\\n                Aktionærer i Novozymes og Chr. Hansen stemmer ja til fusion\\n            </h2>\\n</div>\\n</a>\\n</article>, <article class=\"teaser teaser--flat\">\\n<a class=\"teaser__link\" data-k5a-url=\"https://www.bt.dk/content/item/1680793\" data-lpurl=\"https://www.bt.dk/content/item/1680793\" ', '=\"https://www.bt.dk/erhverv/danmark-saetter-rekord-i-europaeiske-patentansoegninger-0\">\\n<figure class=\"teaser__image\">\\n<img alt=\"Danmark sætter rekord i europæiske patentansøgninger\" class=\"img-responsive\" src=\"https://bt.bmcdn.dk/media/cache/resolve/image_300x200/image/198/1989150/24385897-vestas-vindmlle---20230327112.jpeg\"/>\\n</figure>\\n<div class=\"teaser-body\">\\n<h2 class=\"teaser-body__header\">\\n                Danmark sætter rekord i europæiske patentansøgninger\\n            </h2>\\n</div>\\n</a>\\n</article>, <article class=\"teaser teaser--flat\">\\n<a class=\"teaser__link\" data-k5a-url=\"https://www.bt.dk/content/item/1679340\" data-lpurl=\"https://www.bt.dk/content/item/1679340\" ', '=\"https://www.bt.dk/samfund/jane-er-bekymret-over-sin-diabetesmedicin-det-er-ikke-fair-det-ogsaa-bliver-brugt\">\\n<figure class=\"teaser__image\">\\n<img alt=\"Jane er bekymret over sin diabetesmedicin: Det er ikke fair, det også bliver brugt til at behandle fedme \" class=\"img-responsive\" src=\"https://bt.bmcdn.dk/media/cache/resolve/image_300x200/image/198/1982235/24372779-france-health-tiktok-ozempic.jpg\"/>\\n</figure>\\n<div class=\"teaser-body\">\\n<h2 class=\"teaser-body__header\">\\n                Jane er bekymret over sin diabetesmedicin: Det er ikke fair, det også bliver brugt til at behandle fedme \\n            </h2>\\n</div>\\n</a>\\n</article>, <article class=\"teaser teaser--flat\">\\n<a class=\"teaser__link\" data-k5a-url=\"https://www.bt.dk/content/item/1679617\" data-lpurl=\"https://www.bt.dk/content/item/1679617\" ', '=\"https://www.bt.dk/samfund/medie-novo-nordisk-har-brugt-patientforening-til-kampagne\">\\n<figure class=\"teaser__image\">\\n<img alt=\"Medie: Novo Nordisk har brugt patientforening til kampagne\" class=\"img-responsive\" src=\"https://bt.bmcdn.dk/media/cache/resolve/image_300x200/image/198/1987013/24382044-novo-nordisk-fejrer-100-rs-f.jpeg\"/>\\n</figure>\\n<div class=\"teaser-body\">\\n<h2 class=\"teaser-body__header\">\\n                Medie: Novo Nordisk har brugt patientforening til kampagne\\n            </h2>\\n</div>\\n</a>\\n</article>, <article class=\"teaser teaser--flat\">\\n<a class=\"teaser__link\" data-k5a-url=\"https://www.bt.dk/content/item/1679528\" data-lpurl=\"https://www.bt.dk/content/item/1679528\" ', '=\"https://www.bt.dk/samfund/tilskud-til-fedmemedicin-stopper-maaske-i-2024\">\\n<figure class=\"teaser__image\">\\n<img alt=\"Tilskud til fedmemedicin stopper måske i 2024\" class=\"img-responsive\" src=\"https://bt.bmcdn.dk/media/cache/resolve/image_300x200/image/198/1986822/24381616-ernst-van-norde---202303230802.jpeg\"/>\\n</figure>\\n<div class=\"teaser-body\">\\n<h2 class=\"teaser-body__header\">\\n                Tilskud til fedmemedicin stopper måske i 2024\\n            </h2>\\n</div>\\n</a>\\n</article>, <article class=\"teaser teaser--flat\">\\n<a class=\"teaser__link\" data-k5a-url=\"https://www.bt.dk/content/item/1678725\" data-lpurl=\"https://www.bt.dk/content/item/1678725\" ', '=\"https://www.bt.dk/erhverv/pengetank-kraever-klimaindsats-paa-chefgangene\">\\n<figure class=\"teaser__image\">\\n<img alt=\"Pengetank kræver klimaindsats på chefgangene\" class=\"img-responsive\" src=\"https://bt.bmcdn.dk/media/cache/resolve/image_300x200/image/198/1985167/24378268-norway-swf.jpg\"/>\\n</figure>\\n<div class=\"teaser-body\">\\n<h2 class=\"teaser-body__header\">\\n                Pengetank kræver klimaindsats på chefgangene\\n            </h2>\\n</div>\\n</a>\\n</article>, <article class=\"teaser teaser--flat\">\\n<a class=\"teaser__link\" data-k5a-url=\"https://www.bt.dk/content/item/1677899\" data-lpurl=\"https://www.bt.dk/content/item/1677899\" ', '=\"https://www.bt.dk/erhverv/novo-konkurrent-foelger-trop-og-saenker-insulinpriser-i-usa\">\\n<figure class=\"teaser__image\">\\n<img alt=\"Novo-konkurrent følger trop og sænker insulinpriser i USA\" class=\"img-responsive\" src=\"https://bt.bmcdn.dk/media/cache/resolve/image_300x200/image/198/1983735/24375877-file-photo-sanofi-full-year-r.jpeg\"/>\\n</figure>\\n<div class=\"teaser-body\">\\n<h2 class=\"teaser-body__header\">\\n                Novo-konkurrent følger trop og sænker insulinpriser i USA\\n            </h2>\\n</div>\\n</a>\\n</article>, <article class=\"teaser teaser--flat\">\\n<a class=\"teaser__link\" data-k5a-url=\"https://www.bt.dk/content/item/1677752\" data-lpurl=\"https://www.bt.dk/content/item/1677752\" ', '=\"https://www.bt.dk/forbrug/udelukker-novo-nordisk-i-to-aar\">\\n<figure class=\"teaser__image\">\\n<img alt=\"Udelukker Novo Nordisk i to år\" class=\"img-responsive\" src=\"https://bt.bmcdn.dk/media/cache/resolve/image_300x200/image/198/1983417/24375293-hjctk.jpg\"/>\\n</figure>\\n<div class=\"teaser-body\">\\n<h2 class=\"teaser-body__header\">\\n                Udelukker Novo Nordisk i to år\\n            </h2>\\n</div>\\n</a>\\n</article>, <article class=\"teaser teaser--flat\">\\n<a class=\"teaser__link\" data-k5a-url=\"https://www.bt.dk/content/item/1677149\" data-lpurl=\"https://www.bt.dk/content/item/1677149\" ', '=\"https://www.bt.dk/samfund/slankesproejte-trender-blandt-boern-og-unge-paa-sociale-medier-det-er-dybt\">\\n<figure class=\"teaser__image\">\\n<img alt=\"Slankesprøjte trender blandt børn og unge på sociale medier: \\'Det er dybt problematisk\\' \" class=\"img-responsive\" src=\"https://bt.bmcdn.dk/media/cache/resolve/image_300x200/image/198/1982235/24372779-france-health-tiktok-ozempic.jpg\"/>\\n</figure>\\n<div class=\"teaser-body\">\\n<h2 class=\"teaser-body__header\">\\n                Slankesprøjte trender blandt børn og unge på sociale medier: \\'Det er dybt problematisk\\' \\n            </h2>\\n</div>\\n</a>\\n</article>, <article class=\"teaser teaser--flat\">\\n<a class=\"teaser__link\" data-k5a-url=\"https://www.bt.dk/content/item/1676525\" data-lpurl=\"https://www.bt.dk/content/item/1676525\" ', '=\"https://www.bt.dk/udland/medie-eksperter-der-roste-nyt-slankemiddel-modtog-penge-fra-novo-nordisk\">\\n<figure class=\"teaser__image\">\\n<img alt=\"Medie: Eksperter, der roste nyt slankemiddel, modtog penge fra Novo Nordisk\" class=\"img-responsive\" src=\"https://bt.bmcdn.dk/media/cache/resolve/image_300x200/image/198/1981068/24370642-britain-novo-nordiskobesity.jpg\"/>\\n</figure>\\n<div class=\"teaser-body\">\\n<h2 class=\"teaser-body__header\">\\n                Medie: Eksperter, der roste nyt slankemiddel, modtog penge fra Novo Nordisk\\n            </h2>\\n</div>\\n</a>\\n</article>, <article class=\"teaser teaser--flat\">\\n<a class=\"teaser__link\" data-k5a-url=\"https://www.bt.dk/content/item/1673875\" data-lpurl=\"https://www.bt.dk/content/item/1673875\" ', '=\"https://www.bt.dk/samfund/novo-nordisk-nedlaegger-to-usa-afdelinger-medarbejdere-mister-sit-job\">\\n<figure class=\"teaser__image\">\\n<img alt=\"Novo Nordisk nedlægger to USA-afdelinger: Medarbejdere mister sit job\" class=\"img-responsive\" src=\"https://bt.bmcdn.dk/media/cache/resolve/image_300x200/image/197/1975985/24361033-arkiv.jpg\"/>\\n</figure>\\n<div class=\"teaser-body\">\\n<h2 class=\"teaser-body__header\">\\n                Novo Nordisk nedlægger to USA-afdelinger: Medarbejdere mister sit job\\n            </h2>\\n</div>\\n</a>\\n</article>, <article class=\"teaser teaser--flat\">\\n<a class=\"teaser__link\" data-k5a-url=\"https://www.bt.dk/content/item/1672880\" data-lpurl=\"https://www.bt.dk/content/item/1672880\" ', '=\"https://www.bt.dk/politik/ny-liste-her-er-regeringens-aktietopscorer\">\\n<figure class=\"teaser__image\">\\n<img alt=\"Ny liste: Her er regeringens aktietopscorer \" class=\"img-responsive\" src=\"https://bt.bmcdn.dk/media/cache/resolve/image_300x200/image/197/1975318/24359588-svm.jpg\"/>\\n</figure>\\n<div class=\"teaser-body\">\\n<h2 class=\"teaser-body__header\">\\n                Ny liste: Her er regeringens aktietopscorer \\n            </h2>\\n</div>\\n</a>\\n</article>, <article class=\"teaser teaser--flat\">\\n<a class=\"teaser__link\" data-k5a-url=\"https://www.bt.dk/content/item/1673643\" data-lpurl=\"https://www.bt.dk/content/item/1673643\" ', '=\"https://www.bt.dk/udland/analytiker-politiske-hensyn-bag-novo-rivals-lavere-insulinpriser\">\\n<figure class=\"teaser__image\">\\n<img alt=\"Analytiker: Politiske hensyn bag Novo-rivals lavere insulinpriser\" class=\"img-responsive\" src=\"https://bt.bmcdn.dk/media/cache/resolve/image_300x200/image/197/1975614/24360183-eli-lilly-insulin-price-cuts--.jpeg\"/>\\n</figure>\\n<div class=\"teaser-body\">\\n<h2 class=\"teaser-body__header\">\\n                Analytiker: Politiske hensyn bag Novo-rivals lavere insulinpriser\\n            </h2>\\n</div>\\n</a>\\n</article>, <article class=\"teaser teaser--flat\">\\n<a class=\"teaser__link\" data-k5a-url=\"https://www.bt.dk/content/item/1673574\" data-lpurl=\"https://www.bt.dk/content/item/1673574\" ', '=\"https://www.bt.dk/samfund/novo-nordisk-bruger-stigende-antal-aber-til-dyreforsoeg\">\\n<figure class=\"teaser__image\">\\n<img alt=\"Novo Nordisk bruger stigende antal aber til dyreforsøg\" class=\"img-responsive\" src=\"https://bt.bmcdn.dk/media/cache/resolve/image_300x200/image/197/1975495/24359917-knuthenborg-safaripark---20230.jpeg\"/>\\n</figure>\\n<div class=\"teaser-body\">\\n<h2 class=\"teaser-body__header\">\\n                Novo Nordisk bruger stigende antal aber til dyreforsøg\\n            </h2>\\n</div>\\n</a>\\n</article>, <article class=\"teaser teaser--flat\">\\n<a class=\"teaser__link\" data-k5a-url=\"https://www.bt.dk/content/item/1671913\" data-lpurl=\"https://www.bt.dk/content/item/1671913\" ', '=\"https://www.bt.dk/forbrug/oekonomien-har-det-overraskende-godt-saadan-paavirker-disse-fire-lyspunkter-din\">\\n<figure class=\"teaser__image\">\\n<img alt=\"Økonomien har det overraskende godt: Sådan påvirker disse fire lyspunkter din økonomi\" class=\"img-responsive\" src=\"https://bt.bmcdn.dk/media/cache/resolve/image_300x200/image/197/1972612/24354597-video-node-66656703-thumbnail.jpg\"/>\\n</figure>\\n<div class=\"teaser-body\">\\n<h2 class=\"teaser-body__header\">\\n                Økonomien har det overraskende godt: Sådan påvirker disse fire lyspunkter din økonomi\\n            </h2>\\n</div>\\n</a>\\n</article>, <article class=\"teaser teaser--flat\">\\n<a class=\"teaser__link\" data-k5a-url=\"https://www.bt.dk/content/item/1671229\" data-lpurl=\"https://www.bt.dk/content/item/1671229\" ', '=\"https://www.bt.dk/erhverv/topchef-forsvarer-loen-paa-30-millioner-kroner-min-loen-vil-jo-ogsaa-bevaege-sig\">\\n<figure class=\"teaser__image\">\\n<img alt=\"Topchef forsvarer løn på 30 millioner kroner: \\'Min løn vil jo også bevæge sig nedad i nedgangsår\\'\" class=\"img-responsive\" src=\"https://bt.bmcdn.dk/media/cache/resolve/image_300x200/image/197/1971298/24351836-.jpg\"/>\\n</figure>\\n<div class=\"teaser-body\">\\n<h2 class=\"teaser-body__header\">\\n                Topchef forsvarer løn på 30 millioner kroner: \\'Min løn vil jo også bevæge sig nedad i nedgangsår\\'\\n            </h2>\\n</div>\\n</a>\\n</article>, <article class=\"teaser teaser--flat\">\\n<a class=\"teaser__link\" data-k5a-url=\"https://www.bt.dk/content/item/1666541\" data-lpurl=\"https://www.bt.dk/content/item/1666541\" ', '=\"https://www.bt.dk/erhverv/novo-nordisk-forgylder-medarbejderne-med-milliardgave-efter-rekordregnskab-med-et\">\\n<figure class=\"teaser__image\">\\n<img alt=\"Novo Nordisk forgylder medarbejderne med milliardgave efter rekordregnskab – med et lille men\" class=\"img-responsive\" src=\"https://bt.bmcdn.dk/media/cache/resolve/image_300x200/image/196/1963138/24335961-novo-nordisk-ceo.jpg\"/>\\n</figure>\\n<div class=\"teaser-body\">\\n<h2 class=\"teaser-body__header\">\\n                Novo Nordisk forgylder medarbejderne med milliardgave efter rekordregnskab – med et lille men\\n            </h2>\\n</div>\\n</a>\\n</article>, <article class=\"teaser teaser--flat\">\\n<a class=\"teaser__link\" data-k5a-url=\"https://www.bt.dk/content/item/1666156\" data-lpurl=\"https://www.bt.dk/content/item/1666156\" ', '=\"https://www.bt.dk/erhverv/novo-traet-af-kendisser-fedmemiddel-er-for-populaert\">\\n<figure class=\"teaser__image\">\\n<img alt=\"Novo træt af kendisser: Fedmemiddel er for populært\" class=\"img-responsive\" src=\"https://bt.bmcdn.dk/media/cache/resolve/image_300x200/image/196/1962470/24334541-kim-k.jpg\"/>\\n</figure>\\n<div class=\"teaser-body\">\\n<h2 class=\"teaser-body__header\">\\n                Novo træt af kendisser: Fedmemiddel er for populært\\n            </h2>\\n</div>\\n</a>\\n</article>, <article class=\"teaser teaser--flat\">\\n<a class=\"teaser__link\" data-k5a-url=\"https://www.bt.dk/content/item/1666060\" data-lpurl=\"https://www.bt.dk/content/item/1666060\" ', '=\"https://www.bt.dk/erhverv/novo-nordisk-boss-beloennes-her-er-hans-vilde-loen\">\\n<figure class=\"teaser__image\">\\n<img alt=\"Novo Nordisk-boss belønnes: Her er hans vilde løn\" class=\"img-responsive\" src=\"https://bt.bmcdn.dk/media/cache/resolve/image_300x200/image/196/1962296/24334099-1.jpg\"/>\\n</figure>\\n<div class=\"teaser-body\">\\n<h2 class=\"teaser-body__header\">\\n                Novo Nordisk-boss belønnes: Her er hans vilde løn\\n            </h2>\\n</div>\\n</a>\\n</article>, <article class=\"teaser teaser--flat\">\\n<a class=\"teaser__link\" data-k5a-url=\"https://www.bt.dk/content/item/1666057\" data-lpurl=\"https://www.bt.dk/content/item/1666057\" ', '=\"https://www.bt.dk/erhverv/novo-nordisk-medejer-toppede-listen-over-skattebetalere-i-2021\">\\n<div class=\"teaser-body\">\\n<h2 class=\"teaser-body__header\">\\n                Novo Nordisk-medejer toppede listen over skattebetalere i 2021\\n            </h2>\\n</div>\\n</a>\\n</article>, <article class=\"teaser teaser--flat\">\\n<a class=\"teaser__link\" data-k5a-url=\"https://www.bt.dk/content/item/1665970\" data-lpurl=\"https://www.bt.dk/content/item/1665970\" ', '=\"https://www.bt.dk/erhverv/salg-af-diabetesmidler-hjaelper-novo-nordisk-til-ny-rekord\">\\n<figure class=\"teaser__image\">\\n<img alt=\"Salg af diabetesmidler hjælper Novo Nordisk til ny rekord\" class=\"img-responsive\" src=\"https://bt.bmcdn.dk/media/cache/resolve/image_300x200/image/196/1962177/24333763-novo-nordisk---202302010750236.jpeg\"/>\\n</figure>\\n<div class=\"teaser-body\">\\n<h2 class=\"teaser-body__header\">\\n                Salg af diabetesmidler hjælper Novo Nordisk til ny rekord\\n            </h2>\\n</div>\\n</a>\\n</article>, <article class=\"teaser teaser--flat\">\\n<a class=\"teaser__link\" data-k5a-url=\"https://www.bt.dk/content/item/1665692\" data-lpurl=\"https://www.bt.dk/content/item/1665692\" ', '=\"https://www.bt.dk/erhverv/norges-oliefond-tabte-1100-milliarder-kroner-i-2022\">\\n<figure class=\"teaser__image\">\\n<img alt=\"Norges oliefond tabte 1100 milliarder kroner i 2022\" class=\"img-responsive\" src=\"https://bt.bmcdn.dk/media/cache/resolve/image_300x200/image/196/1961675/24332638-nicolai-tangen-speaks-during-a.jpeg\"/>\\n</figure>\\n<div class=\"teaser-body\">\\n<h2 class=\"teaser-body__header\">\\n                Norges oliefond tabte 1100 milliarder kroner i 2022\\n            </h2>\\n</div>\\n</a>\\n</article>, <article class=\"teaser teaser--flat\">\\n<a class=\"teaser__link\" data-k5a-url=\"https://www.bt.dk/content/item/1663463\" data-lpurl=\"https://www.bt.dk/content/item/1663463\" ', '=\"https://www.bt.dk/erhverv/novo-nordisk-formand-aabner-for-at-investere-i-atomkraft\">\\n<div class=\"teaser-body\">\\n<h2 class=\"teaser-body__header\">\\n                Novo Nordisk-formand åbner for at investere i atomkraft\\n            </h2>\\n</div>\\n</a>\\n</article>, <article class=\"teaser teaser--flat\">\\n<a class=\"teaser__link\" data-k5a-url=\"https://www.bt.dk/content/item/1662285\" data-lpurl=\"https://www.bt.dk/content/item/1662285\" ', '=\"https://www.bt.dk/erhverv/dansk-topchef-forlader-sin-stilling-hos-tysk-brillegigant\">\\n<div class=\"teaser-body\">\\n<h2 class=\"teaser-body__header\">\\n                Dansk topchef forlader sin stilling hos tysk brillegigant\\n            </h2>\\n</div>\\n</a>\\n</article>, <article class=\"teaser teaser--flat\">\\n<a class=\"teaser__link\" data-k5a-url=\"https://www.bt.dk/content/item/1660872\" data-lpurl=\"https://www.bt.dk/content/item/1660872\" ', '=\"https://www.bt.dk/erhverv/californien-sagsoeger-novo-nordisk-over-insulinpriser\">\\n<div class=\"teaser-body\">\\n<h2 class=\"teaser-body__header\">\\n                Californien sagsøger Novo Nordisk over insulinpriser\\n            </h2>\\n</div>\\n</a>\\n</article>, <article class=\"teaser teaser--flat\">\\n<a class=\"teaser__link\" data-k5a-url=\"https://www.bt.dk/content/item/1660107\" data-lpurl=\"https://www.bt.dk/content/item/1660107\" ', '=\"https://www.bt.dk/erhverv/forbereder-investorer-dansk-folkeaktie-kan-ryge-40-pct-ned\">\\n<figure class=\"teaser__image\">\\n<img alt=\"Forbereder investorer: Dansk folkeaktie kan ryge 40 pct. ned\" class=\"img-responsive\" src=\"https://bt.bmcdn.dk/media/cache/resolve/image_300x200/image/195/1951437/24312485-t54.jpg\"/>\\n</figure>\\n<div class=\"teaser-body\">\\n<h2 class=\"teaser-body__header\">\\n                Forbereder investorer: Dansk folkeaktie kan ryge 40 pct. ned\\n            </h2>\\n</div>\\n</a>\\n</article>, <article class=\"teaser teaser--flat\">\\n<a class=\"teaser__link\" data-k5a-url=\"https://www.bt.dk/content/item/1657148\" data-lpurl=\"https://www.bt.dk/content/item/1657148\" ', '=\"https://www.bt.dk/erhverv/novo-nordisk-vipper-ikoniske-brands-af-pinden\">\\n<figure class=\"teaser__image\">\\n<img alt=\"Novo Nordisk vipper ikoniske brands af pinden \" class=\"img-responsive\" src=\"https://bt.bmcdn.dk/media/cache/resolve/image_300x200/image/194/1945913/24302558-novo-nordisk-ceo.jpg\"/>\\n</figure>\\n<div class=\"teaser-body\">\\n<h2 class=\"teaser-body__header\">\\n                Novo Nordisk vipper ikoniske brands af pinden \\n            </h2>\\n</div>\\n</a>\\n</article>, <article class=\"teaser teaser--flat\">\\n<a class=\"teaser__link\" data-k5a-url=\"https://www.bt.dk/content/item/1653696\" data-lpurl=\"https://www.bt.dk/content/item/1653696\" ', '=\"https://www.bt.dk/samfund/frygter-manglende-tilskud-til-fedmemiddel-kan-skabe-a-og-b-hold\">\\n<div class=\"teaser-body\">\\n<h2 class=\"teaser-body__header\">\\n                Frygter manglende tilskud til fedmemiddel kan skabe A- og B-hold\\n            </h2>\\n</div>\\n</a>\\n</article>, <article class=\"teaser teaser--flat\">\\n<a class=\"teaser__link\" data-k5a-url=\"https://www.bt.dk/content/item/1653567\" data-lpurl=\"https://www.bt.dk/content/item/1653567\" ', '=\"https://www.bt.dk/erhverv/stor-dansk-fusion-chr-hansen-og-novozymes-gaar-sammen\">\\n<figure class=\"teaser__image\">\\n<img alt=\"Stor dansk fusion: Chr. Hansen og Novozymes går sammen\" class=\"img-responsive\" src=\"https://bt.bmcdn.dk/media/cache/resolve/image_300x200/image/193/1939033/24288876-ester-baiget---202212120902555.jpeg\"/>\\n</figure>\\n<div class=\"teaser-body\">\\n<h2 class=\"teaser-body__header\">\\n                Stor dansk fusion: Chr. Hansen og Novozymes går sammen\\n            </h2>\\n</div>\\n</a>\\n</article>, <article class=\"teaser teaser--flat\">\\n<a class=\"teaser__link\" data-k5a-url=\"https://www.bt.dk/content/item/1653518\" data-lpurl=\"https://www.bt.dk/content/item/1653518\" ', '=\"https://www.bt.dk/erhverv/efterspurgt-fedmemiddel-fra-novo-nordisk-til-salg-i-danmark\">\\n<figure class=\"teaser__image\">\\n<img alt=\"Efterspurgt fedmemiddel fra Novo Nordisk til salg i Danmark\" class=\"img-responsive\" src=\"https://bt.bmcdn.dk/media/cache/resolve/image_300x200/image/193/1938907/24288575-paul-ellis---20221211223228528.jpeg\"/>\\n</figure>\\n<div class=\"teaser-body\">\\n<h2 class=\"teaser-body__header\">\\n                Efterspurgt fedmemiddel fra Novo Nordisk til salg i Danmark\\n            </h2>\\n</div>\\n</a>\\n</article>, <article class=\"teaser teaser--flat\">\\n<a class=\"teaser__link\" data-k5a-url=\"https://www.bt.dk/content/item/1653514\" data-lpurl=\"https://www.bt.dk/content/item/1653514\" ', '=\"https://www.bt.dk/samfund/novo-nordisk-sender-efterspurgt-fedmemiddel-paa-markedet-i-danmark\">\\n<figure class=\"teaser__image\">\\n<img alt=\"Novo Nordisk sender efterspurgt fedmemiddel på markedet i Danmark \" class=\"img-responsive\" src=\"https://bt.bmcdn.dk/media/cache/resolve/image_300x200/image/193/1938900/24288566-novo-nordisk-ceo.jpg\"/>\\n</figure>\\n<div class=\"teaser-body\">\\n<h2 class=\"teaser-body__header\">\\n                Novo Nordisk sender efterspurgt fedmemiddel på markedet i Danmark \\n            </h2>\\n</div>\\n</a>\\n</article>, <article class=\"teaser teaser--flat\">\\n<a class=\"teaser__link\" data-k5a-url=\"https://www.bt.dk/content/item/1651525\" data-lpurl=\"https://www.bt.dk/content/item/1651525\" ', '=\"https://www.bt.dk/erhverv/novo-nordisk-har-voksevaerk-og-traeder-ind-i-giganternes-raekker\">\\n<figure class=\"teaser__image\">\\n<img alt=\"Novo Nordisk har vokseværk og træder ind i giganternes rækker\" class=\"img-responsive\" src=\"https://bt.bmcdn.dk/media/cache/resolve/image_300x200/image/193/1934771/24281030-novo-nordisk-results.jpg\"/>\\n</figure>\\n<div class=\"teaser-body\">\\n<h2 class=\"teaser-body__header\">\\n                Novo Nordisk har vokseværk og træder ind i giganternes rækker\\n            </h2>\\n</div>\\n</a>\\n</article>]']\n"
     ]
    }
   ],
   "source": [
    "links=[]\n",
    "\n",
    "steps=[0]\n",
    "for i in steps: \n",
    "    response=requests.get(f'https://www.bt.dk/search?query=Novo%20Nordisk&limit=100&offset={i}')\n",
    "    \n",
    "    # Use Beautiful Soup to parse the HTML\n",
    "    soup = BeautifulSoup(response.content, \"lxml\")\n",
    "    links.append(str(soup.find_all(class_='teaser teaser--flat')))\n",
    "    \n",
    "    time.sleep(0.1)\n",
    "\n",
    "print(links[0].split(\"href\"))   \n",
    "\n",
    "\n",
    "#for child in links[0][0]:\n",
    " #   print(child)\n",
    "  #  print('next')\n",
    "    \n",
    "#links[0][0].find('a')\n",
    "#links[0][0].contents[1]"
   ]
  },
  {
   "cell_type": "code",
   "execution_count": 230,
   "id": "10ee18fd-210b-40aa-b886-bceeccd8c12f",
   "metadata": {},
   "outputs": [
    {
     "name": "stdout",
     "output_type": "stream",
     "text": [
      "[[]]\n"
     ]
    }
   ],
   "source": [
    "links=[]\n",
    "\n",
    "steps=[0]\n",
    "for i in steps: \n",
    "    response=requests.get(f'https://www.bt.dk/search?query=Novo%20Nordisk&limit=100&offset={i}')\n",
    "    \n",
    "    # Use Beautiful Soup to parse the HTML\n",
    "    soup = BeautifulSoup(response.content, \"lxml\")\n",
    "    links.append(soup.find_all('href='))\n",
    "    time.sleep(0.1)\n",
    "\n",
    "print(links)"
   ]
  },
  {
   "cell_type": "code",
   "execution_count": null,
   "id": "192af6fd-c164-439a-a3d3-3d26c9f6f708",
   "metadata": {},
   "outputs": [],
   "source": []
  },
  {
   "cell_type": "code",
   "execution_count": null,
   "id": "eac926f0-2589-4c93-8beb-ebfc0a1959af",
   "metadata": {},
   "outputs": [],
   "source": []
  },
  {
   "cell_type": "code",
   "execution_count": null,
   "id": "ba524311-b67b-4cd3-9aa7-c8f3bae4d172",
   "metadata": {},
   "outputs": [],
   "source": []
  },
  {
   "cell_type": "code",
   "execution_count": null,
   "id": "f7c2616b-a339-436f-a532-6cf248f5a373",
   "metadata": {},
   "outputs": [],
   "source": []
  },
  {
   "cell_type": "code",
   "execution_count": null,
   "id": "26ddeaf0-28a1-4d85-ae4c-ad7c8c9c1815",
   "metadata": {},
   "outputs": [],
   "source": []
  },
  {
   "cell_type": "code",
   "execution_count": null,
   "id": "5bbffc60-2e5d-4b82-9743-1a803fcfd9fd",
   "metadata": {},
   "outputs": [],
   "source": []
  },
  {
   "cell_type": "code",
   "execution_count": null,
   "id": "6a3659c8-1ec7-47ad-9f39-cdd3140d3e0f",
   "metadata": {},
   "outputs": [],
   "source": []
  },
  {
   "cell_type": "code",
   "execution_count": null,
   "id": "f3931ae7-6306-4de5-beb1-591caddb508e",
   "metadata": {},
   "outputs": [],
   "source": []
  },
  {
   "cell_type": "code",
   "execution_count": null,
   "id": "2c4966ab-f02b-4738-be22-f5a4614c0a2c",
   "metadata": {},
   "outputs": [],
   "source": []
  },
  {
   "cell_type": "code",
   "execution_count": null,
   "id": "8b83d812-510a-4697-85ff-6060b5460e0c",
   "metadata": {},
   "outputs": [],
   "source": []
  },
  {
   "cell_type": "code",
   "execution_count": null,
   "id": "775aa0cf-af00-4429-9312-132d17b8b16a",
   "metadata": {},
   "outputs": [],
   "source": []
  },
  {
   "cell_type": "code",
   "execution_count": null,
   "id": "66e06bf5-eac2-44ee-a9a7-019feb488570",
   "metadata": {},
   "outputs": [],
   "source": []
  },
  {
   "cell_type": "code",
   "execution_count": null,
   "id": "34130f55-f9df-45a6-98f9-fd93525df8e5",
   "metadata": {},
   "outputs": [],
   "source": []
  },
  {
   "cell_type": "code",
   "execution_count": null,
   "id": "b8834ba0-852c-4d57-8bc6-b3f1defb735f",
   "metadata": {},
   "outputs": [],
   "source": []
  },
  {
   "cell_type": "code",
   "execution_count": null,
   "id": "1e7a6f62-fb5e-4129-8643-da26213d422a",
   "metadata": {},
   "outputs": [],
   "source": []
  },
  {
   "cell_type": "code",
   "execution_count": null,
   "id": "03caafe9-359f-4b1d-996c-2414fd41c538",
   "metadata": {},
   "outputs": [],
   "source": []
  },
  {
   "cell_type": "code",
   "execution_count": null,
   "id": "1577bc2d-817c-4d32-9074-4f354295d195",
   "metadata": {},
   "outputs": [],
   "source": []
  },
  {
   "cell_type": "code",
   "execution_count": null,
   "id": "c1e134a7-ea03-4fb2-a5c0-f7c55c371a67",
   "metadata": {},
   "outputs": [],
   "source": []
  },
  {
   "cell_type": "code",
   "execution_count": null,
   "id": "8a97af0a-b870-4509-8282-8a7a50099ef6",
   "metadata": {},
   "outputs": [],
   "source": []
  },
  {
   "cell_type": "code",
   "execution_count": null,
   "id": "1f92c2f6-3bf4-4405-947c-bde16df3ba19",
   "metadata": {},
   "outputs": [],
   "source": []
  },
  {
   "cell_type": "code",
   "execution_count": null,
   "id": "95045d74-3534-4ebc-b0a7-eaed47ed6e7e",
   "metadata": {},
   "outputs": [],
   "source": []
  },
  {
   "cell_type": "code",
   "execution_count": null,
   "id": "43d34481-c650-4960-9b01-569df6fbb19f",
   "metadata": {},
   "outputs": [],
   "source": []
  },
  {
   "cell_type": "code",
   "execution_count": null,
   "id": "362ec21e-58e0-4511-91a7-d9896427257f",
   "metadata": {},
   "outputs": [],
   "source": []
  },
  {
   "cell_type": "code",
   "execution_count": null,
   "id": "7dd3c167-9663-46a7-a63b-ece6fa292097",
   "metadata": {},
   "outputs": [],
   "source": []
  },
  {
   "cell_type": "code",
   "execution_count": null,
   "id": "bde74433-effb-4a15-9b39-ccde89e33857",
   "metadata": {},
   "outputs": [],
   "source": []
  },
  {
   "cell_type": "code",
   "execution_count": null,
   "id": "9da5b35a-99ff-4ad9-8598-88a35d33090b",
   "metadata": {},
   "outputs": [],
   "source": []
  },
  {
   "cell_type": "code",
   "execution_count": null,
   "id": "712fe227-c2f4-42a1-a5b0-a6e6ae8c718a",
   "metadata": {},
   "outputs": [],
   "source": []
  },
  {
   "cell_type": "code",
   "execution_count": null,
   "id": "0236917b-7899-4c22-ab6c-8207262b9fc7",
   "metadata": {},
   "outputs": [],
   "source": []
  },
  {
   "cell_type": "code",
   "execution_count": null,
   "id": "49ab3a2d-1834-48f4-a26a-d4d07d1ef77e",
   "metadata": {},
   "outputs": [],
   "source": []
  },
  {
   "cell_type": "code",
   "execution_count": null,
   "id": "06e30ce9-a8e2-4f39-8f89-776a52f0fea5",
   "metadata": {},
   "outputs": [],
   "source": []
  },
  {
   "cell_type": "code",
   "execution_count": null,
   "id": "b9011a45-811e-434c-b9be-177b12631346",
   "metadata": {},
   "outputs": [],
   "source": []
  },
  {
   "cell_type": "code",
   "execution_count": null,
   "id": "fb895c61-1b42-4a74-9978-d1177e7d5dfb",
   "metadata": {},
   "outputs": [],
   "source": []
  },
  {
   "cell_type": "code",
   "execution_count": null,
   "id": "5170b558-185a-4356-93cf-315044181105",
   "metadata": {},
   "outputs": [],
   "source": []
  },
  {
   "cell_type": "code",
   "execution_count": null,
   "id": "bd875391-ac00-4f55-8650-1736a9841df1",
   "metadata": {},
   "outputs": [],
   "source": []
  },
  {
   "cell_type": "code",
   "execution_count": null,
   "id": "935e714f-5af1-4f11-8ad0-fcb3147b29f6",
   "metadata": {},
   "outputs": [],
   "source": [
    "    \n",
    "loop=0\n",
    "while True:\n",
    "    try:\n",
    "        time.sleep(1)\n",
    "        loop+=1 \n",
    "        load_more_button = driver.find_element(By.XPATH, '//*[@id=\"content\"]/div/div/div[3]/div[2]/button')\n",
    "        load_more_button.click()\n",
    "        if loop == 10: \n",
    "            break\n",
    "    except:\n",
    "        print('error')\n",
    "        break"
   ]
  },
  {
   "cell_type": "code",
   "execution_count": 50,
   "id": "54beb2fe-4b56-4343-9f23-d4db7c93ce10",
   "metadata": {},
   "outputs": [],
   "source": [
    "# Get the page source\n",
    "page_source = driver.page_source\n",
    "\n",
    "# Use Beautiful Soup to parse the HTML\n",
    "soup = BeautifulSoup(page_source, \"html.parser\")\n",
    "\n",
    "# Find all articles\n",
    "articles = soup.find_all(\"article\", class_=\"teaser teaser--flat\")\n",
    "\n",
    "# Define a list to store data\n",
    "article_data = []\n",
    "\n",
    "# Loop through articles\n",
    "for article in articles:\n",
    "    # Extract the link to the article\n",
    "    article_link = article.find(\"a\", class_=\"teaser__link\")[\"href\"]\n",
    "    \n",
    "    # Click the article link to view it\n",
    "    driver.get(article_link)\n",
    "    time.sleep(2)  # Wait for article content to load\n",
    "    \n",
    "    # Extract title and date from the opened article\n",
    "    article_soup = BeautifulSoup(driver.page_source, \"html.parser\")\n",
    "    title = article_soup.find(\"h1\", class_=\"article-title\").text.strip()\n",
    "    date = article_soup.find(\"div\", class_=\"article-date\").text.strip()\n",
    "    \n",
    "    # Store the title and date in the list\n",
    "    article_data.append({title, date})\n",
    "    \n",
    "    # Go back to the search results\n",
    "    driver.back()\n",
    "    time.sleep(2)  # Wait for demonstration purposes\n"
   ]
  },
  {
   "cell_type": "code",
   "execution_count": 127,
   "id": "3cf485a8-85af-4579-94fc-514108a747cd",
   "metadata": {},
   "outputs": [
    {
     "data": {
      "text/html": [
       "<div>\n",
       "<style scoped>\n",
       "    .dataframe tbody tr th:only-of-type {\n",
       "        vertical-align: middle;\n",
       "    }\n",
       "\n",
       "    .dataframe tbody tr th {\n",
       "        vertical-align: top;\n",
       "    }\n",
       "\n",
       "    .dataframe thead th {\n",
       "        text-align: right;\n",
       "    }\n",
       "</style>\n",
       "<table border=\"1\" class=\"dataframe\">\n",
       "  <thead>\n",
       "    <tr style=\"text-align: right;\">\n",
       "      <th></th>\n",
       "      <th>Title</th>\n",
       "      <th>Date</th>\n",
       "    </tr>\n",
       "  </thead>\n",
       "  <tbody>\n",
       "    <tr>\n",
       "      <th>0</th>\n",
       "      <td>Novo Nordisk kæmper med at følge den store eft...</td>\n",
       "      <td>2 timer siden\\n                    | Opdateret...</td>\n",
       "    </tr>\n",
       "    <tr>\n",
       "      <th>1</th>\n",
       "      <td>Novo Nordisk-aktien er gået amok: 10.000 krone...</td>\n",
       "      <td>2 timer siden</td>\n",
       "    </tr>\n",
       "    <tr>\n",
       "      <th>2</th>\n",
       "      <td>Novos gigantoverskud kommer hele Danmark til gode</td>\n",
       "      <td>2 timer siden\\n                    | Opdateret...</td>\n",
       "    </tr>\n",
       "    <tr>\n",
       "      <th>3</th>\n",
       "      <td>Novo Nordisk hæver milliardoverskud trods udbu...</td>\n",
       "      <td>5 timer siden\\n                    | Opdateret...</td>\n",
       "    </tr>\n",
       "    <tr>\n",
       "      <th>4</th>\n",
       "      <td>Salg af Novo-slankemiddel boomer: Mere end sek...</td>\n",
       "      <td>5 timer siden</td>\n",
       "    </tr>\n",
       "    <tr>\n",
       "      <th>5</th>\n",
       "      <td>Bagsiden af Novo Nordisks succes: Millionforli...</td>\n",
       "      <td>9. aug. 2023 - 17:26</td>\n",
       "    </tr>\n",
       "    <tr>\n",
       "      <th>6</th>\n",
       "      <td>Regioner forventer milliardregning for Novo-me...</td>\n",
       "      <td>9. aug. 2023 - 7:01\\n        \\n               ...</td>\n",
       "    </tr>\n",
       "    <tr>\n",
       "      <th>7</th>\n",
       "      <td>Novos markedsværdi stiger med over 400 milliar...</td>\n",
       "      <td>8. aug. 2023 - 17:37\\n        \\n              ...</td>\n",
       "    </tr>\n",
       "    <tr>\n",
       "      <th>8</th>\n",
       "      <td>Testresultater sender Novo-aktien i rekordniveau</td>\n",
       "      <td>8. aug. 2023 - 13:23\\n        \\n              ...</td>\n",
       "    </tr>\n",
       "    <tr>\n",
       "      <th>9</th>\n",
       "      <td>Novo sagsøgt: Kvinde oplever mavelammelse i ja...</td>\n",
       "      <td>3. aug. 2023 - 10:05\\n        \\n              ...</td>\n",
       "    </tr>\n",
       "  </tbody>\n",
       "</table>\n",
       "</div>"
      ],
      "text/plain": [
       "                                               Title  \\\n",
       "0  Novo Nordisk kæmper med at følge den store eft...   \n",
       "1  Novo Nordisk-aktien er gået amok: 10.000 krone...   \n",
       "2  Novos gigantoverskud kommer hele Danmark til gode   \n",
       "3  Novo Nordisk hæver milliardoverskud trods udbu...   \n",
       "4  Salg af Novo-slankemiddel boomer: Mere end sek...   \n",
       "5  Bagsiden af Novo Nordisks succes: Millionforli...   \n",
       "6  Regioner forventer milliardregning for Novo-me...   \n",
       "7  Novos markedsværdi stiger med over 400 milliar...   \n",
       "8   Testresultater sender Novo-aktien i rekordniveau   \n",
       "9  Novo sagsøgt: Kvinde oplever mavelammelse i ja...   \n",
       "\n",
       "                                                Date  \n",
       "0  2 timer siden\\n                    | Opdateret...  \n",
       "1                                      2 timer siden  \n",
       "2  2 timer siden\\n                    | Opdateret...  \n",
       "3  5 timer siden\\n                    | Opdateret...  \n",
       "4                                      5 timer siden  \n",
       "5                               9. aug. 2023 - 17:26  \n",
       "6  9. aug. 2023 - 7:01\\n        \\n               ...  \n",
       "7  8. aug. 2023 - 17:37\\n        \\n              ...  \n",
       "8  8. aug. 2023 - 13:23\\n        \\n              ...  \n",
       "9  3. aug. 2023 - 10:05\\n        \\n              ...  "
      ]
     },
     "execution_count": 127,
     "metadata": {},
     "output_type": "execute_result"
    }
   ],
   "source": [
    "# Create a pandas DataFrame\n",
    "df = pd.DataFrame(article_data, columns=[\"Title\", \"Date\"])\n",
    "df \n",
    "\n",
    "    \n",
    "\n",
    "        \n",
    "\n"
   ]
  },
  {
   "cell_type": "code",
   "execution_count": null,
   "id": "d79b3e3a-fad4-41c7-b21a-bfca512b54e0",
   "metadata": {},
   "outputs": [],
   "source": []
  },
  {
   "cell_type": "code",
   "execution_count": null,
   "id": "3acd8393-91d0-4e88-96e2-6f80d955c4f0",
   "metadata": {},
   "outputs": [],
   "source": []
  },
  {
   "cell_type": "code",
   "execution_count": null,
   "id": "e788c146-0422-4c0b-bbb1-d30ea9285840",
   "metadata": {},
   "outputs": [],
   "source": []
  }
 ],
 "metadata": {
  "kernelspec": {
   "display_name": "Python 3 (ipykernel)",
   "language": "python",
   "name": "python3"
  },
  "language_info": {
   "codemirror_mode": {
    "name": "ipython",
    "version": 3
   },
   "file_extension": ".py",
   "mimetype": "text/x-python",
   "name": "python",
   "nbconvert_exporter": "python",
   "pygments_lexer": "ipython3",
   "version": "3.10.9"
  }
 },
 "nbformat": 4,
 "nbformat_minor": 5
}
