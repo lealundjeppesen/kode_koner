{
 "cells": [
  {
   "cell_type": "markdown",
   "id": "43833b91-c1fe-4428-864e-0cd634bd53e1",
   "metadata": {},
   "source": [
    "## Scraping Finans Danmark boligstatistik\n"
   ]
  },
  {
   "cell_type": "code",
   "execution_count": 40,
   "id": "3d3e53e2-31c5-4148-94a8-f224454e9692",
   "metadata": {
    "tags": []
   },
   "outputs": [],
   "source": [
    "from selenium import webdriver\n",
    "from webdriver_manager.chrome import ChromeDriverManager\n",
    "from selenium.webdriver.common.keys import Keys\n",
    "from selenium.webdriver.common.by import By\n",
    "from selenium.webdriver.support import expected_conditions as EC\n",
    "from selenium.webdriver.support.ui import WebDriverWait\n",
    "from selenium.webdriver.support.ui import Select\n",
    "\n",
    "from bs4 import BeautifulSoup\n",
    "import time\n",
    "import re\n",
    "import requests"
   ]
  },
  {
   "cell_type": "code",
   "execution_count": 47,
   "id": "6704be53-21e3-4603-899b-24ae5ffb0de3",
   "metadata": {
    "tags": []
   },
   "outputs": [],
   "source": [
    "# Set up the driver and navigate to the URL\n",
    "# Set up the driver and navigate to the URL\n",
    "url = 'https://rkr.statistikbank.dk/statbank5a/SelectVarVal/Define.asp?MainTable=BM010&PLanguage=0&PXSId=0&wsid=cflist'\n",
    "driver = webdriver.Chrome()  # Ensure you have the ChromeDriver set up correctly\n",
    "driver.get(url)\n",
    "time.sleep(5)\n",
    "\n",
    "\n",
    "#### DROPDOWN 1: Choosing only \"Kommuner\" ###\n",
    "# Locate the dropdown element using its name attribute\n",
    "dropdown1 = driver.find_element(By.NAME, 'grouping1')\n",
    "\n",
    "# Use the Select class to interact with the dropdown\n",
    "select = Select(dropdown1)\n",
    "\n",
    "# Select the \"Kommuner\" option by its visible text\n",
    "select.select_by_visible_text('Kommuner')\n",
    "\n",
    "\n",
    "#### DROPDOWN 2: Choosing only \"Parcel-/rækkehus\" ###\n",
    "# Locate the dropdown element using its name attribute\n",
    "dropdown2 = driver.find_element(By.NAME, 'var2')\n",
    "\n",
    "# Use the Select class to interact with the dropdown\n",
    "select = Select(dropdown2)\n",
    "\n",
    "# Select the \"Parcel-/rækkehus\" option by its value\n",
    "select.select_by_value('1')\n",
    "\n",
    "\n",
    "#### DROPDOWN 3: Choosing only \"Parcel-/rækkehus\" ###\n",
    "\n",
    "# You can keep the browser open for further interactions or close it\n",
    "# driver.close()"
   ]
  },
  {
   "cell_type": "code",
   "execution_count": null,
   "id": "f75460f2-3872-434f-9651-9fbd07250c4a",
   "metadata": {},
   "outputs": [],
   "source": []
  }
 ],
 "metadata": {
  "kernelspec": {
   "display_name": "Python 3 (ipykernel)",
   "language": "python",
   "name": "python3"
  },
  "language_info": {
   "codemirror_mode": {
    "name": "ipython",
    "version": 3
   },
   "file_extension": ".py",
   "mimetype": "text/x-python",
   "name": "python",
   "nbconvert_exporter": "python",
   "pygments_lexer": "ipython3",
   "version": "3.11.3"
  }
 },
 "nbformat": 4,
 "nbformat_minor": 5
}
