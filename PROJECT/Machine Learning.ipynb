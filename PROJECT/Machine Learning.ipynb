{
 "cells": [
  {
   "cell_type": "markdown",
   "id": "8d1f1c32-fe79-4a76-b4a9-aa0ab8d561c2",
   "metadata": {},
   "source": [
    "## Machine Learning: Building a regression model using Lasso Regression"
   ]
  },
  {
   "cell_type": "code",
   "execution_count": 1,
   "id": "aecdac56-b75e-481d-a3b3-cd7204f6ddef",
   "metadata": {
    "tags": []
   },
   "outputs": [
    {
     "data": {
      "text/html": [
       "<div>\n",
       "<style scoped>\n",
       "    .dataframe tbody tr th:only-of-type {\n",
       "        vertical-align: middle;\n",
       "    }\n",
       "\n",
       "    .dataframe tbody tr th {\n",
       "        vertical-align: top;\n",
       "    }\n",
       "\n",
       "    .dataframe thead th {\n",
       "        text-align: right;\n",
       "    }\n",
       "</style>\n",
       "<table border=\"1\" class=\"dataframe\">\n",
       "  <thead>\n",
       "    <tr style=\"text-align: right;\">\n",
       "      <th></th>\n",
       "      <th>Date</th>\n",
       "      <th>mean</th>\n",
       "      <th>std</th>\n",
       "      <th>volume</th>\n",
       "      <th>daily_return</th>\n",
       "    </tr>\n",
       "  </thead>\n",
       "  <tbody>\n",
       "    <tr>\n",
       "      <th>0</th>\n",
       "      <td>2005-01-03</td>\n",
       "      <td>-0.500000</td>\n",
       "      <td>0.707107</td>\n",
       "      <td>2</td>\n",
       "      <td>-0.018395</td>\n",
       "    </tr>\n",
       "    <tr>\n",
       "      <th>1</th>\n",
       "      <td>2005-01-06</td>\n",
       "      <td>0.000000</td>\n",
       "      <td>0.000000</td>\n",
       "      <td>3</td>\n",
       "      <td>0.027972</td>\n",
       "    </tr>\n",
       "    <tr>\n",
       "      <th>2</th>\n",
       "      <td>2005-01-07</td>\n",
       "      <td>0.000000</td>\n",
       "      <td>0.000000</td>\n",
       "      <td>4</td>\n",
       "      <td>0.015306</td>\n",
       "    </tr>\n",
       "    <tr>\n",
       "      <th>3</th>\n",
       "      <td>2005-01-11</td>\n",
       "      <td>-0.333333</td>\n",
       "      <td>0.577350</td>\n",
       "      <td>3</td>\n",
       "      <td>-0.018487</td>\n",
       "    </tr>\n",
       "    <tr>\n",
       "      <th>4</th>\n",
       "      <td>2005-01-18</td>\n",
       "      <td>-1.000000</td>\n",
       "      <td>1.414214</td>\n",
       "      <td>2</td>\n",
       "      <td>-0.011986</td>\n",
       "    </tr>\n",
       "    <tr>\n",
       "      <th>...</th>\n",
       "      <td>...</td>\n",
       "      <td>...</td>\n",
       "      <td>...</td>\n",
       "      <td>...</td>\n",
       "      <td>...</td>\n",
       "    </tr>\n",
       "    <tr>\n",
       "      <th>1701</th>\n",
       "      <td>2023-08-07</td>\n",
       "      <td>0.000000</td>\n",
       "      <td>0.000000</td>\n",
       "      <td>3</td>\n",
       "      <td>0.028071</td>\n",
       "    </tr>\n",
       "    <tr>\n",
       "      <th>1702</th>\n",
       "      <td>2023-08-08</td>\n",
       "      <td>0.250000</td>\n",
       "      <td>2.179449</td>\n",
       "      <td>12</td>\n",
       "      <td>0.172622</td>\n",
       "    </tr>\n",
       "    <tr>\n",
       "      <th>1703</th>\n",
       "      <td>2023-08-09</td>\n",
       "      <td>1.444444</td>\n",
       "      <td>2.962731</td>\n",
       "      <td>9</td>\n",
       "      <td>-0.012815</td>\n",
       "    </tr>\n",
       "    <tr>\n",
       "      <th>1704</th>\n",
       "      <td>2023-08-10</td>\n",
       "      <td>-0.400000</td>\n",
       "      <td>1.776388</td>\n",
       "      <td>10</td>\n",
       "      <td>-0.012189</td>\n",
       "    </tr>\n",
       "    <tr>\n",
       "      <th>1705</th>\n",
       "      <td>2023-08-11</td>\n",
       "      <td>-2.000000</td>\n",
       "      <td>2.828427</td>\n",
       "      <td>2</td>\n",
       "      <td>-0.005449</td>\n",
       "    </tr>\n",
       "  </tbody>\n",
       "</table>\n",
       "<p>1706 rows × 5 columns</p>\n",
       "</div>"
      ],
      "text/plain": [
       "            Date      mean       std  volume  daily_return\n",
       "0     2005-01-03 -0.500000  0.707107       2     -0.018395\n",
       "1     2005-01-06  0.000000  0.000000       3      0.027972\n",
       "2     2005-01-07  0.000000  0.000000       4      0.015306\n",
       "3     2005-01-11 -0.333333  0.577350       3     -0.018487\n",
       "4     2005-01-18 -1.000000  1.414214       2     -0.011986\n",
       "...          ...       ...       ...     ...           ...\n",
       "1701  2023-08-07  0.000000  0.000000       3      0.028071\n",
       "1702  2023-08-08  0.250000  2.179449      12      0.172622\n",
       "1703  2023-08-09  1.444444  2.962731       9     -0.012815\n",
       "1704  2023-08-10 -0.400000  1.776388      10     -0.012189\n",
       "1705  2023-08-11 -2.000000  2.828427       2     -0.005449\n",
       "\n",
       "[1706 rows x 5 columns]"
      ]
     },
     "execution_count": 1,
     "metadata": {},
     "output_type": "execute_result"
    }
   ],
   "source": [
    "import matplotlib.pyplot as plt\n",
    "import numpy as np\n",
    "import pandas as pd\n",
    "from sklearn.model_selection import train_test_split\n",
    "from sklearn.linear_model import Lasso\n",
    "from sklearn.metrics import mean_squared_error\n",
    "from sklearn.preprocessing import StandardScaler\n",
    "from sklearn.preprocessing import PolynomialFeatures\n",
    "from sklearn.metrics import mean_squared_error as mse\n",
    "from sklearn.model_selection import cross_val_score\n",
    "\n",
    "## IMPORTING THE CLEANED DATAFRAME\n",
    "df_final = pd.read_csv('./CSV/df_merged_clean.csv')\n",
    "#Print to ensure it is the right data frame\n",
    "df_final"
   ]
  },
  {
   "cell_type": "markdown",
   "id": "972db6f6-5205-4001-ab7c-ec29a840b13d",
   "metadata": {},
   "source": [
    "### Lasso Regression"
   ]
  },
  {
   "cell_type": "code",
   "execution_count": 2,
   "id": "0970aff9-5f83-470d-bf17-077dafedbd4a",
   "metadata": {
    "tags": []
   },
   "outputs": [],
   "source": [
    "# Splitting the data into features and target variable\n",
    "X = df_final[['mean', 'std', 'volume']]  # Features\n",
    "y = df_final['daily_return']  # Target variable\n",
    "\n",
    "# Splitting the data\n",
    "X_train, X_test, y_train, y_test = train_test_split(X, y, test_size=0.3, random_state=42)\n",
    "\n",
    "# Transforming the data set and creating interaction terms\n",
    "poly_trans = PolynomialFeatures(degree=3, include_bias=False)\n",
    "X_train_p = poly_trans.fit_transform(X_train)\n",
    "X_test_p = poly_trans.transform(X_test)  # Use transform, not fit_transform for the test set\n",
    "\n",
    "# Rescaling our data\n",
    "rescaler = StandardScaler().fit(X_train_p)\n",
    "X_train2 = rescaler.transform(X_train_p)\n",
    "X_test2 = rescaler.transform(X_test_p)\n"
   ]
  },
  {
   "cell_type": "code",
   "execution_count": 8,
   "id": "9f98a689-9a46-48a9-a4f9-218bd4e15544",
   "metadata": {
    "tags": []
   },
   "outputs": [],
   "source": [
    "# Creating a function that calculates the root mean squared error\n",
    "def rmse(y_true, y_pred):\n",
    "    return np.sqrt(mse(y_true, y_pred))\n",
    "\n",
    "output = []\n",
    "# 20 values from 10^-4 to 10^4. Default base=10\n",
    "lambdas = np.logspace(-4, 4, 20)\n",
    "\n",
    "for lambda_ in lambdas:\n",
    "    reg = Lasso(alpha=lambda_, random_state=1)\n",
    "    reg.fit(X_train2, y_train)\n",
    "    output.append(\n",
    "        [\n",
    "            lambda_,\n",
    "            rmse(reg.predict(X_train2), y_train),\n",
    "            rmse(reg.predict(X_test2), y_test),\n",
    "        ]\n",
    "    )"
   ]
  },
  {
   "cell_type": "code",
   "execution_count": 4,
   "id": "8e826b1e-44a6-4d9b-aa4b-bb71654c502d",
   "metadata": {
    "tags": []
   },
   "outputs": [
    {
     "data": {
      "image/png": "[encoded data removed]",
      "text/plain": [
       "<Figure size 640x480 with 1 Axes>"
      ]
     },
     "metadata": {},
     "output_type": "display_data"
    },
    {
     "name": "stdout",
     "output_type": "stream",
     "text": [
      "Minimum RMSE = 0.020 found for lambda = 0.0018.\n"
     ]
    }
   ],
   "source": [
    "# Visualization and selection of the optimal lambda cvalue\n",
    "MSE_df = pd.DataFrame(\n",
    "    data=output, columns=[\"lambda\", \"MSE train\", \"MSE test\"]\n",
    ").set_index(\"lambda\")\n",
    "\n",
    "MSE_df.plot(logx=True, logy=True)\n",
    "plt.ylabel('RMSE')\n",
    "plt.title('RMSE for different lambda values')\n",
    "plt.show()\n",
    "\n",
    "best_fit = MSE_df[\"MSE test\"].nsmallest(1)\n",
    "lambda_opt, RMSE_min = next(best_fit.items())\n",
    "print(f\"Minimum RMSE = {RMSE_min:.3f} found for lambda = {lambda_opt:.4f}.\")"
   ]
  },
  {
   "cell_type": "code",
   "execution_count": 5,
   "id": "cfcec91e-6fbe-4ff4-bc68-5de6ba05f107",
   "metadata": {
    "tags": []
   },
   "outputs": [
    {
     "name": "stdout",
     "output_type": "stream",
     "text": [
      "Intercept: 0.0017132218697826493\n",
      "\n",
      "Coefficients:\n",
      "mean: 0.0\n",
      "std: 0.0\n",
      "volume: -0.0\n",
      "mean^2: 0.0\n",
      "mean std: 0.0\n",
      "mean volume: 0.0015703412724797747\n",
      "std^2: 0.0\n",
      "std volume: -0.0\n",
      "volume^2: -0.0\n",
      "mean^3: 0.0\n",
      "mean^2 std: 0.0\n",
      "mean^2 volume: 0.0\n",
      "mean std^2: -0.0\n",
      "mean std volume: 0.0\n",
      "mean volume^2: 0.0030963484746267876\n",
      "std^3: 0.0\n",
      "std^2 volume: 0.0\n",
      "std volume^2: -0.0\n",
      "volume^3: -0.002069015395105604\n"
     ]
    }
   ],
   "source": [
    "# After fitting the Lasso model\n",
    "reg = Lasso(alpha=lambda_opt)\n",
    "reg.fit(X_train2, y_train)\n",
    "\n",
    "# Creating predicted values\n",
    "y_pred = reg.predict(X_test2)\n",
    "\n",
    "# Extracting coefficients and intercept\n",
    "coefficients = reg.coef_\n",
    "intercept = reg.intercept_\n",
    "\n",
    "# Displaying the results\n",
    "print(\"Intercept:\", intercept)\n",
    "print(\"\\nCoefficients:\")\n",
    "for feature, coef in zip(poly_trans.get_feature_names_out(X.columns), coefficients):\n",
    "    print(f\"{feature}: {coef}\")"
   ]
  },
  {
   "cell_type": "markdown",
   "id": "75b317dc-9198-4b3f-a680-dea135951608",
   "metadata": {},
   "source": [
    "### Residuals Analysis"
   ]
  },
  {
   "cell_type": "code",
   "execution_count": 6,
   "id": "b37929dc-07ca-429a-b795-617bc51e1014",
   "metadata": {
    "tags": []
   },
   "outputs": [
    {
     "data": {
      "image/png": "[encoded data removed]",
      "text/plain": [
       "<Figure size 640x480 with 1 Axes>"
      ]
     },
     "metadata": {},
     "output_type": "display_data"
    }
   ],
   "source": [
    "residuals = y_test - y_pred\n",
    "\n",
    "# Plotting residuals\n",
    "plt.scatter(y_pred, residuals)\n",
    "plt.axhline(0, color='red', linestyle='--')  # Adding a horizontal line at y=0\n",
    "plt.xlabel('Predicted Values')\n",
    "plt.ylabel('Residuals')\n",
    "plt.title('Residual Plot')\n",
    "plt.show()"
   ]
  },
  {
   "cell_type": "markdown",
   "id": "15d09409-9801-4644-b901-9377d95e61db",
   "metadata": {},
   "source": [
    "### Cross-Validation"
   ]
  },
  {
   "cell_type": "code",
   "execution_count": 7,
   "id": "8f9bb5d4-41ab-462c-9097-9dda858b066c",
   "metadata": {
    "tags": []
   },
   "outputs": [
    {
     "name": "stdout",
     "output_type": "stream",
     "text": [
      "Cross-validated RMSE scores: [0.0180701  0.02073813 0.01846692 0.01823989 0.02329935]\n",
      "Mean RMSE: 0.019762877417449778\n",
      "Standard Deviation of RMSE: 0.0020160490859758204\n"
     ]
    }
   ],
   "source": [
    "# Using the optimal lambda value\n",
    "reg = Lasso(alpha=lambda_opt)\n",
    "\n",
    "# Computing cross-validated RMSE scores\n",
    "scores = cross_val_score(reg, X_train2, y_train, scoring='neg_mean_squared_error', cv=5)\n",
    "rmse_scores = np.sqrt(-scores)\n",
    "\n",
    "print(\"Cross-validated RMSE scores:\", rmse_scores)\n",
    "print(\"Mean RMSE:\", rmse_scores.mean())\n",
    "print(\"Standard Deviation of RMSE:\", rmse_scores.std())"
   ]
  },
  {
   "cell_type": "markdown",
   "id": "7ac8b8d7-367c-412b-9fed-5b85673c3c5b",
   "metadata": {},
   "source": [
    "#### Interpretation:\n",
    "\n",
    "Our model, on average, has an error of about 0.0234 (23,4%). This is the typical difference between the observed values and the model's predictions.\n",
    "\n",
    "The range of RMSE values across the 5 folds goes from around 0.017 to 0.036. This range gives you an idea of the best and worst-case scenarios for your model's performance on unseen data.\n",
    "\n",
    "The standard deviation of the RMSE values across the folds is 0.00675. This indicates that there's some variability in how well the model performs on different subsets of the data. If this value were very high, it might be a cause for concern, as it would indicate that the model's performance is very inconsistent. In your case, while there's some variability, it's not excessively high.\n",
    "\n",
    "In conclusion, cross-validation provides a more robust estimate of a model's performance than a single train-test split. By looking at the range and standard deviation of the RMSE values, you can get a sense of the model's consistency and reliability. If you're comparing multiple models, you'd typically choose the one with the lowest mean RMSE, provided its performance is consistent across folds (i.e., a low standard deviation of RMSE)."
   ]
  }
 ],
 "metadata": {
  "kernelspec": {
   "display_name": "Python 3 (ipykernel)",
   "language": "python",
   "name": "python3"
  },
  "language_info": {
   "codemirror_mode": {
    "name": "ipython",
    "version": 3
   },
   "file_extension": ".py",
   "mimetype": "text/x-python",
   "name": "python",
   "nbconvert_exporter": "python",
   "pygments_lexer": "ipython3",
   "version": "3.11.3"
  }
 },
 "nbformat": 4,
 "nbformat_minor": 5
}
