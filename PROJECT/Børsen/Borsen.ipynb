{
 "cells": [
  {
   "cell_type": "markdown",
   "id": "b254497d-f772-4330-9807-50508fa047e1",
   "metadata": {},
   "source": [
    "## Scraping Børsen for articles about Novo Nordisk"
   ]
  },
  {
   "cell_type": "code",
   "execution_count": 15,
   "id": "b7d7c1c4-ceb2-438c-9a09-9495625e06e9",
   "metadata": {
    "tags": []
   },
   "outputs": [],
   "source": [
    "from selenium import webdriver\n",
    "from selenium.webdriver.chrome.service import Service\n",
    "from selenium.webdriver.common.by import By\n",
    "from selenium.webdriver.common.keys import Keys\n",
    "from selenium.webdriver.support import expected_conditions as EC\n",
    "from selenium.webdriver.support.ui import WebDriverWait\n",
    "from webdriver_manager.chrome import ChromeDriverManager\n",
    "import time\n",
    "import requests\n",
    "import os\n",
    "from bs4 import BeautifulSoup\n",
    "import sys\n",
    "sys.path.append('/Users/rosemarieblicher/Desktop/kode_koner/PROJECT/Børsen')  # replace with your actual path\n",
    "from Credentials import *"
   ]
  },
  {
   "cell_type": "code",
   "execution_count": null,
   "id": "864c6638-297f-4b57-9f4a-8d946bdf7f2a",
   "metadata": {},
   "outputs": [],
   "source": [
    "# Save for later use\n",
    "response = requests.get('https://borsen.dk/', headers={'name': 'Rosemarie Thalia Blicher', 'e-mail': 'mzc144@alumni.ku.dk'})\n",
    "\n",
    "# Set up Selenium with Chrome driver\n",
    "driver = webdriver.Chrome()\n",
    "driver.maximize_window()\n",
    "\n",
    "# Specify the URL\n",
    "url = \"https://borsen.dk/\"\n",
    "driver.get(url)\n",
    "time.sleep(0.5)  # Add a delay to avoid overwhelming the server and getting blocked\n",
    "\n",
    "# We want the cookies to go away\n",
    "cookie = driver.find_element(By.ID, 'acceptButton')\n",
    "cookie.click()\n",
    "time.sleep(0.5) # Cookie pop-up will disappear\n",
    "\n",
    "# Click on the search button\n",
    "search_button = driver.find_element(By.CLASS_NAME, 'icon-search')\n",
    "search_button.click()\n",
    "\n",
    "# Wait for the search input field to appear (you might need to adjust the waiting time)\n",
    "import time\n",
    "time.sleep(2)  # Wait for 2 seconds\n",
    "\n",
    "# Find the search input field and type in \"Novo Nordisk\"\n",
    "search_input = driver.find_element(By.XPATH, '//input[@type=\"text\"]')\n",
    "search_input.send_keys('Novo Nordisk')\n",
    "search_input.send_keys(Keys.RETURN)"
   ]
  },
  {
   "cell_type": "code",
   "execution_count": null,
   "id": "17aae5c7-3608-4e06-af70-2f3fc069589d",
   "metadata": {},
   "outputs": [],
   "source": [
    "# Now we want to log in, such that we get access to all articles\n",
    "login_button = driver.find_element(By.XPATH, \"//span[text()='Log ind']\")\n",
    "login_button.click()\n",
    "\n",
    "# Find the email input field by its id and type in the email\n",
    "email_input = driver.find_element(By.ID, \"__BVID__214\")\n",
    "email_input.send_keys(\"fzb@an.dk\")\n",
    "\n",
    "# Find the password input field by its id and type in the password\n",
    "password_input = driver.find_element(By.ID, \"__BVID__216\")\n",
    "password_input.send_keys(Password)"
   ]
  }
 ],
 "metadata": {
  "kernelspec": {
   "display_name": "Python 3 (ipykernel)",
   "language": "python",
   "name": "python3"
  },
  "language_info": {
   "codemirror_mode": {
    "name": "ipython",
    "version": 3
   },
   "file_extension": ".py",
   "mimetype": "text/x-python",
   "name": "python",
   "nbconvert_exporter": "python",
   "pygments_lexer": "ipython3",
   "version": "3.11.3"
  }
 },
 "nbformat": 4,
 "nbformat_minor": 5
}
