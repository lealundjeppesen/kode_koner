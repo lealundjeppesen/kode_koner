{
 "cells": [
  {
   "cell_type": "markdown",
   "id": "b254497d-f772-4330-9807-50508fa047e1",
   "metadata": {},
   "source": [
    "## Scraping Børsen for articles about Novo Nordisk"
   ]
  },
  {
   "cell_type": "code",
   "execution_count": 83,
   "id": "b7d7c1c4-ceb2-438c-9a09-9495625e06e9",
   "metadata": {
    "tags": []
   },
   "outputs": [],
   "source": [
    "from selenium import webdriver\n",
    "from selenium.webdriver.chrome.service import Service\n",
    "from selenium.webdriver.common.by import By\n",
    "from selenium.webdriver.common.keys import Keys\n",
    "from selenium.webdriver.support import expected_conditions as EC\n",
    "from selenium.webdriver.support.ui import WebDriverWait\n",
    "from webdriver_manager.chrome import ChromeDriverManager\n",
    "from selenium.common.exceptions import NoSuchElementException\n",
    "\n",
    "import time\n",
    "import requests\n",
    "import os\n",
    "from bs4 import BeautifulSoup\n",
    "import pandas as pd\n",
    "import re\n",
    "import datetime"
   ]
  },
  {
   "cell_type": "code",
   "execution_count": 62,
   "id": "864c6638-297f-4b57-9f4a-8d946bdf7f2a",
   "metadata": {},
   "outputs": [],
   "source": [
    "# Set up Selenium with Chrome driver\n",
    "driver = webdriver.Chrome()\n",
    "driver.maximize_window()\n",
    "\n",
    "# Specify the URL\n",
    "url = \"https://borsen.dk/\"\n",
    "driver.get(url)\n",
    "time.sleep(0.5)\n",
    "\n",
    "# Accept cookies\n",
    "cookie = driver.find_element(By.ID, 'acceptButton')\n",
    "cookie.click()\n",
    "time.sleep(0.5)\n",
    "\n",
    "# Click on the search button\n",
    "search_button = driver.find_element(By.CLASS_NAME, 'icon-search')\n",
    "search_button.click()\n",
    "time.sleep(2)\n",
    "\n",
    "# Search for \"Novo Nordisk\"\n",
    "search_input = driver.find_element(By.XPATH, '//input[@type=\"text\"]')\n",
    "search_input.send_keys('Novo Nordisk')\n",
    "search_input.send_keys(Keys.RETURN)\n",
    "\n"
   ]
  },
  {
   "cell_type": "code",
   "execution_count": 63,
   "id": "9b32ed58-4ca8-44a9-9e90-5797fb8fff28",
   "metadata": {
    "tags": []
   },
   "outputs": [
    {
     "data": {
      "text/html": [
       "<div>\n",
       "<style scoped>\n",
       "    .dataframe tbody tr th:only-of-type {\n",
       "        vertical-align: middle;\n",
       "    }\n",
       "\n",
       "    .dataframe tbody tr th {\n",
       "        vertical-align: top;\n",
       "    }\n",
       "\n",
       "    .dataframe thead th {\n",
       "        text-align: right;\n",
       "    }\n",
       "</style>\n",
       "<table border=\"1\" class=\"dataframe\">\n",
       "  <thead>\n",
       "    <tr style=\"text-align: right;\">\n",
       "      <th></th>\n",
       "      <th>Title</th>\n",
       "      <th>Date</th>\n",
       "    </tr>\n",
       "  </thead>\n",
       "  <tbody>\n",
       "    <tr>\n",
       "      <th>0</th>\n",
       "      <td>Investorer høster aktieprofitter – her er akti...</td>\n",
       "      <td>9.15</td>\n",
       "    </tr>\n",
       "    <tr>\n",
       "      <th>1</th>\n",
       "      <td>Før markedet åbner: Trykket stemning efter hæs...</td>\n",
       "      <td>8.36</td>\n",
       "    </tr>\n",
       "    <tr>\n",
       "      <th>2</th>\n",
       "      <td>Novos udviklingschef efter vild uge: Flere suc...</td>\n",
       "      <td>10. AUG.</td>\n",
       "    </tr>\n",
       "    <tr>\n",
       "      <th>3</th>\n",
       "      <td>Fruergaard: “Vi investerer, hvor vi kan flytte...</td>\n",
       "      <td>10. AUG.</td>\n",
       "    </tr>\n",
       "    <tr>\n",
       "      <th>4</th>\n",
       "      <td>Inflationstal udløste C25-optur: Kursprygl til...</td>\n",
       "      <td>10. AUG.</td>\n",
       "    </tr>\n",
       "    <tr>\n",
       "      <th>...</th>\n",
       "      <td>...</td>\n",
       "      <td>...</td>\n",
       "    </tr>\n",
       "    <tr>\n",
       "      <th>26825</th>\n",
       "      <td>Centerkontrakter</td>\n",
       "      <td>28. JUN. 1996</td>\n",
       "    </tr>\n",
       "    <tr>\n",
       "      <th>26826</th>\n",
       "      <td>Fremgang for Micro Matic</td>\n",
       "      <td>27. JUN. 1996</td>\n",
       "    </tr>\n",
       "    <tr>\n",
       "      <th>26827</th>\n",
       "      <td>Øser af sin miljø-erfaring</td>\n",
       "      <td>26. JUN. 1996</td>\n",
       "    </tr>\n",
       "    <tr>\n",
       "      <th>26828</th>\n",
       "      <td>Danske virksomheder tvinges til nedskæringer</td>\n",
       "      <td>24. JUN. 1996</td>\n",
       "    </tr>\n",
       "    <tr>\n",
       "      <th>26829</th>\n",
       "      <td>Vores Øl bliver til Vores Cola</td>\n",
       "      <td>21. JUN. 1996</td>\n",
       "    </tr>\n",
       "  </tbody>\n",
       "</table>\n",
       "<p>26830 rows × 2 columns</p>\n",
       "</div>"
      ],
      "text/plain": [
       "                                                   Title           Date\n",
       "0      Investorer høster aktieprofitter – her er akti...           9.15\n",
       "1      Før markedet åbner: Trykket stemning efter hæs...           8.36\n",
       "2      Novos udviklingschef efter vild uge: Flere suc...       10. AUG.\n",
       "3      Fruergaard: “Vi investerer, hvor vi kan flytte...       10. AUG.\n",
       "4      Inflationstal udløste C25-optur: Kursprygl til...       10. AUG.\n",
       "...                                                  ...            ...\n",
       "26825                                   Centerkontrakter  28. JUN. 1996\n",
       "26826                           Fremgang for Micro Matic  27. JUN. 1996\n",
       "26827                         Øser af sin miljø-erfaring  26. JUN. 1996\n",
       "26828       Danske virksomheder tvinges til nedskæringer  24. JUN. 1996\n",
       "26829                     Vores Øl bliver til Vores Cola  21. JUN. 1996\n",
       "\n",
       "[26830 rows x 2 columns]"
      ]
     },
     "execution_count": 63,
     "metadata": {},
     "output_type": "execute_result"
    }
   ],
   "source": [
    "titles = []\n",
    "dates = []\n",
    "\n",
    "while True:\n",
    "    # Use Beautiful Soup to parse the current page's HTML\n",
    "    soup = BeautifulSoup(driver.page_source, \"html.parser\")\n",
    "\n",
    "    # Find all titles and dates with the specified class\n",
    "    title_divs = soup.find_all('div', class_='title mb-3')\n",
    "    date_divs = soup.find_all('div', class_='gta-condensed date')\n",
    "\n",
    "    for title_div, date_div in zip(title_divs, date_divs):\n",
    "        titles.append(title_div.text.strip())\n",
    "        dates.append(date_div.text.strip())\n",
    "\n",
    "    # Try to find the \"Next\" button/link and click it to go to the next page\n",
    "    try:\n",
    "        next_button = driver.find_element(By.CSS_SELECTOR, \".col-3.next a\")\n",
    "        next_button.click()\n",
    "        time.sleep(2)\n",
    "    except NoSuchElementException:\n",
    "        break\n",
    "\n",
    "# Convert the lists to a pandas DataFrame\n",
    "df = pd.DataFrame({\n",
    "    'Title': titles,\n",
    "    'Date': dates\n",
    "})\n",
    "\n",
    "df"
   ]
  },
  {
   "cell_type": "code",
   "execution_count": 79,
   "id": "e2a2fa8e-8994-463e-87c9-3eb45f9c550b",
   "metadata": {
    "tags": []
   },
   "outputs": [
    {
     "data": {
      "text/plain": [
       "['Activelle',\n",
       " 'Actrapid',\n",
       " 'Esperoct',\n",
       " 'Estrofem',\n",
       " 'Fiasp',\n",
       " 'GlucaGen',\n",
       " 'Insulatard',\n",
       " 'Kliogest',\n",
       " 'Levemir',\n",
       " 'Mixtard ',\n",
       " 'Norditropin',\n",
       " 'NovoEight',\n",
       " 'Novofem',\n",
       " 'NovoMix',\n",
       " 'NovoNorm',\n",
       " 'NovoRapid',\n",
       " 'Novoseven',\n",
       " 'NovoThirteen',\n",
       " 'Ozempic',\n",
       " 'Refixia',\n",
       " 'Rybelsus',\n",
       " 'Ryzodeg',\n",
       " 'Saxenda',\n",
       " 'Sogroya',\n",
       " 'Tresiba',\n",
       " 'Trisekvens',\n",
       " 'Vagifem',\n",
       " 'Victoza',\n",
       " 'Wegovy',\n",
       " 'Xultophy',\n",
       " 'Flextouch']"
      ]
     },
     "execution_count": 79,
     "metadata": {},
     "output_type": "execute_result"
    }
   ],
   "source": [
    "#To filter the articles, we make a list of keywords\n",
    "#Initially, this list must inclide the names of all Novo Nordisk medical products. These can be obtained as follows: \n",
    "\n",
    "# URL to scrape from\n",
    "url = \"https://min.medicin.dk/Adresser/Medicinvirksomheder/126/\"\n",
    "\n",
    "# Send a GET request\n",
    "response = requests.get(url, headers={'name': 'Rosemarie Blicher', 'e-mail':'mzc44@alumni.ku.dk', 'purpose':'University of Copenhagen Social Data Science exam project'})\n",
    "\n",
    "# Parse the content with BeautifulSoup\n",
    "soup = BeautifulSoup(response.content, 'lxml')\n",
    "\n",
    "# Find all product elements\n",
    "product_elements = soup.find_all('a', class_='glob-search_link')\n",
    "\n",
    "# Extract the product names from the title attribute\n",
    "product_names = [product['title'] for product in product_elements]\n",
    "\n",
    "# Removing special characters and numbers from each product name by using Regular Expressions\n",
    "product_names_cleaned = [re.sub(r'[^a-zA-Z\\s]', '', name) for name in product_names]\n",
    "\n",
    "# For the 28th element, split it into 2 by space\n",
    "words = product_names_cleaned[28].split()\n",
    "\n",
    "# Replace the 28th name with the first word\n",
    "product_names_cleaned[28] = words[0]\n",
    "\n",
    "# Insert the second word as the 29th element\n",
    "product_names_cleaned.insert(30, words[1])\n",
    "\n",
    "#Print the list\n",
    "product_names_cleaned"
   ]
  },
  {
   "cell_type": "code",
   "execution_count": 80,
   "id": "17aae5c7-3608-4e06-af70-2f3fc069589d",
   "metadata": {
    "tags": []
   },
   "outputs": [
    {
     "name": "stdout",
     "output_type": "stream",
     "text": [
      "['Novo', 'Nordisk', 'insulin', 'fedme', 'diabetes', 'vægttab', 'præparat', 'overvægt', 'slank', 'medicin', 'pille', 'Activelle', 'Actrapid', 'Esperoct', 'Estrofem', 'Fiasp', 'GlucaGen', 'Insulatard', 'Kliogest', 'Levemir', 'Mixtard ', 'Norditropin', 'NovoEight', 'Novofem', 'NovoMix', 'NovoNorm', 'NovoRapid', 'Novoseven', 'NovoThirteen', 'Ozempic', 'Refixia', 'Rybelsus', 'Ryzodeg', 'Saxenda', 'Sogroya', 'Tresiba', 'Trisekvens', 'Vagifem', 'Victoza', 'Wegovy', 'Xultophy', 'Flextouch']\n"
     ]
    }
   ],
   "source": [
    "# Define additional keywords, these are determined manually by research on Novo Nordisk medical expertise\n",
    "keywords = [\"Novo\", \"Nordisk\", \"insulin\", \"fedme\", \"diabetes\", \"vægttab\", \"præparat\", \"overvægt\", \"slank\", \"medicin\", \"pille\"]\n",
    "\n",
    "# We then append the product_names_cleaned list to the keywords list\n",
    "for product in product_names_cleaned:\n",
    "    keywords.append(product)\n",
    "\n",
    "print(keywords)"
   ]
  },
  {
   "cell_type": "code",
   "execution_count": 120,
   "id": "4524421b-caf9-4cc6-9f68-f8ca14a2cb75",
   "metadata": {
    "tags": []
   },
   "outputs": [
    {
     "ename": "ValueError",
     "evalue": "time data '10. AUG 2023' does not match format '%d %b %Y'",
     "output_type": "error",
     "traceback": [
      "\u001b[0;31m---------------------------------------------------------------------------\u001b[0m",
      "\u001b[0;31mValueError\u001b[0m                                Traceback (most recent call last)",
      "Cell \u001b[0;32mIn[120], line 39\u001b[0m\n\u001b[1;32m     36\u001b[0m         \u001b[38;5;28;01mreturn\u001b[39;00m datetime\u001b[38;5;241m.\u001b[39mdatetime\u001b[38;5;241m.\u001b[39mstrptime(date_string\u001b[38;5;241m.\u001b[39mstrip(\u001b[38;5;124m'\u001b[39m\u001b[38;5;124m.\u001b[39m\u001b[38;5;124m'\u001b[39m) \u001b[38;5;241m+\u001b[39m \u001b[38;5;124mf\u001b[39m\u001b[38;5;124m\"\u001b[39m\u001b[38;5;124m \u001b[39m\u001b[38;5;132;01m{\u001b[39;00mcurrent_year\u001b[38;5;132;01m}\u001b[39;00m\u001b[38;5;124m\"\u001b[39m, \u001b[38;5;124m'\u001b[39m\u001b[38;5;132;01m%d\u001b[39;00m\u001b[38;5;124m \u001b[39m\u001b[38;5;124m%\u001b[39m\u001b[38;5;124mb \u001b[39m\u001b[38;5;124m%\u001b[39m\u001b[38;5;124mY\u001b[39m\u001b[38;5;124m'\u001b[39m)\u001b[38;5;241m.\u001b[39mstrftime(\u001b[38;5;124m'\u001b[39m\u001b[38;5;124m%\u001b[39m\u001b[38;5;124mY-\u001b[39m\u001b[38;5;124m%\u001b[39m\u001b[38;5;124mm-\u001b[39m\u001b[38;5;132;01m%d\u001b[39;00m\u001b[38;5;124m'\u001b[39m)\n\u001b[1;32m     38\u001b[0m \u001b[38;5;66;03m# Apply the conversion function to the 'Date' column\u001b[39;00m\n\u001b[0;32m---> 39\u001b[0m df_filtered[\u001b[38;5;124m'\u001b[39m\u001b[38;5;124mDate\u001b[39m\u001b[38;5;124m'\u001b[39m] \u001b[38;5;241m=\u001b[39m df_filtered[\u001b[38;5;124m'\u001b[39m\u001b[38;5;124mDate\u001b[39m\u001b[38;5;124m'\u001b[39m]\u001b[38;5;241m.\u001b[39mapply(convert_date)\n",
      "File \u001b[0;32m~/anaconda3/lib/python3.11/site-packages/pandas/core/series.py:4771\u001b[0m, in \u001b[0;36mSeries.apply\u001b[0;34m(self, func, convert_dtype, args, **kwargs)\u001b[0m\n\u001b[1;32m   4661\u001b[0m \u001b[38;5;28;01mdef\u001b[39;00m \u001b[38;5;21mapply\u001b[39m(\n\u001b[1;32m   4662\u001b[0m     \u001b[38;5;28mself\u001b[39m,\n\u001b[1;32m   4663\u001b[0m     func: AggFuncType,\n\u001b[0;32m   (...)\u001b[0m\n\u001b[1;32m   4666\u001b[0m     \u001b[38;5;241m*\u001b[39m\u001b[38;5;241m*\u001b[39mkwargs,\n\u001b[1;32m   4667\u001b[0m ) \u001b[38;5;241m-\u001b[39m\u001b[38;5;241m>\u001b[39m DataFrame \u001b[38;5;241m|\u001b[39m Series:\n\u001b[1;32m   4668\u001b[0m \u001b[38;5;250m    \u001b[39m\u001b[38;5;124;03m\"\"\"\u001b[39;00m\n\u001b[1;32m   4669\u001b[0m \u001b[38;5;124;03m    Invoke function on values of Series.\u001b[39;00m\n\u001b[1;32m   4670\u001b[0m \n\u001b[0;32m   (...)\u001b[0m\n\u001b[1;32m   4769\u001b[0m \u001b[38;5;124;03m    dtype: float64\u001b[39;00m\n\u001b[1;32m   4770\u001b[0m \u001b[38;5;124;03m    \"\"\"\u001b[39;00m\n\u001b[0;32m-> 4771\u001b[0m     \u001b[38;5;28;01mreturn\u001b[39;00m SeriesApply(\u001b[38;5;28mself\u001b[39m, func, convert_dtype, args, kwargs)\u001b[38;5;241m.\u001b[39mapply()\n",
      "File \u001b[0;32m~/anaconda3/lib/python3.11/site-packages/pandas/core/apply.py:1123\u001b[0m, in \u001b[0;36mSeriesApply.apply\u001b[0;34m(self)\u001b[0m\n\u001b[1;32m   1120\u001b[0m     \u001b[38;5;28;01mreturn\u001b[39;00m \u001b[38;5;28mself\u001b[39m\u001b[38;5;241m.\u001b[39mapply_str()\n\u001b[1;32m   1122\u001b[0m \u001b[38;5;66;03m# self.f is Callable\u001b[39;00m\n\u001b[0;32m-> 1123\u001b[0m \u001b[38;5;28;01mreturn\u001b[39;00m \u001b[38;5;28mself\u001b[39m\u001b[38;5;241m.\u001b[39mapply_standard()\n",
      "File \u001b[0;32m~/anaconda3/lib/python3.11/site-packages/pandas/core/apply.py:1174\u001b[0m, in \u001b[0;36mSeriesApply.apply_standard\u001b[0;34m(self)\u001b[0m\n\u001b[1;32m   1172\u001b[0m     \u001b[38;5;28;01melse\u001b[39;00m:\n\u001b[1;32m   1173\u001b[0m         values \u001b[38;5;241m=\u001b[39m obj\u001b[38;5;241m.\u001b[39mastype(\u001b[38;5;28mobject\u001b[39m)\u001b[38;5;241m.\u001b[39m_values\n\u001b[0;32m-> 1174\u001b[0m         mapped \u001b[38;5;241m=\u001b[39m lib\u001b[38;5;241m.\u001b[39mmap_infer(\n\u001b[1;32m   1175\u001b[0m             values,\n\u001b[1;32m   1176\u001b[0m             f,\n\u001b[1;32m   1177\u001b[0m             convert\u001b[38;5;241m=\u001b[39m\u001b[38;5;28mself\u001b[39m\u001b[38;5;241m.\u001b[39mconvert_dtype,\n\u001b[1;32m   1178\u001b[0m         )\n\u001b[1;32m   1180\u001b[0m \u001b[38;5;28;01mif\u001b[39;00m \u001b[38;5;28mlen\u001b[39m(mapped) \u001b[38;5;129;01mand\u001b[39;00m \u001b[38;5;28misinstance\u001b[39m(mapped[\u001b[38;5;241m0\u001b[39m], ABCSeries):\n\u001b[1;32m   1181\u001b[0m     \u001b[38;5;66;03m# GH#43986 Need to do list(mapped) in order to get treated as nested\u001b[39;00m\n\u001b[1;32m   1182\u001b[0m     \u001b[38;5;66;03m#  See also GH#25959 regarding EA support\u001b[39;00m\n\u001b[1;32m   1183\u001b[0m     \u001b[38;5;28;01mreturn\u001b[39;00m obj\u001b[38;5;241m.\u001b[39m_constructor_expanddim(\u001b[38;5;28mlist\u001b[39m(mapped), index\u001b[38;5;241m=\u001b[39mobj\u001b[38;5;241m.\u001b[39mindex)\n",
      "File \u001b[0;32m~/anaconda3/lib/python3.11/site-packages/pandas/_libs/lib.pyx:2924\u001b[0m, in \u001b[0;36mpandas._libs.lib.map_infer\u001b[0;34m()\u001b[0m\n",
      "Cell \u001b[0;32mIn[120], line 36\u001b[0m, in \u001b[0;36mconvert_date\u001b[0;34m(date_string)\u001b[0m\n\u001b[1;32m     34\u001b[0m current_year \u001b[38;5;241m=\u001b[39m datetime\u001b[38;5;241m.\u001b[39mdatetime\u001b[38;5;241m.\u001b[39mnow()\u001b[38;5;241m.\u001b[39myear\n\u001b[1;32m     35\u001b[0m \u001b[38;5;66;03m# Remove the trailing period and add the current year\u001b[39;00m\n\u001b[0;32m---> 36\u001b[0m \u001b[38;5;28;01mreturn\u001b[39;00m datetime\u001b[38;5;241m.\u001b[39mdatetime\u001b[38;5;241m.\u001b[39mstrptime(date_string\u001b[38;5;241m.\u001b[39mstrip(\u001b[38;5;124m'\u001b[39m\u001b[38;5;124m.\u001b[39m\u001b[38;5;124m'\u001b[39m) \u001b[38;5;241m+\u001b[39m \u001b[38;5;124mf\u001b[39m\u001b[38;5;124m\"\u001b[39m\u001b[38;5;124m \u001b[39m\u001b[38;5;132;01m{\u001b[39;00mcurrent_year\u001b[38;5;132;01m}\u001b[39;00m\u001b[38;5;124m\"\u001b[39m, \u001b[38;5;124m'\u001b[39m\u001b[38;5;132;01m%d\u001b[39;00m\u001b[38;5;124m \u001b[39m\u001b[38;5;124m%\u001b[39m\u001b[38;5;124mb \u001b[39m\u001b[38;5;124m%\u001b[39m\u001b[38;5;124mY\u001b[39m\u001b[38;5;124m'\u001b[39m)\u001b[38;5;241m.\u001b[39mstrftime(\u001b[38;5;124m'\u001b[39m\u001b[38;5;124m%\u001b[39m\u001b[38;5;124mY-\u001b[39m\u001b[38;5;124m%\u001b[39m\u001b[38;5;124mm-\u001b[39m\u001b[38;5;132;01m%d\u001b[39;00m\u001b[38;5;124m'\u001b[39m)\n",
      "File \u001b[0;32m~/anaconda3/lib/python3.11/_strptime.py:568\u001b[0m, in \u001b[0;36m_strptime_datetime\u001b[0;34m(cls, data_string, format)\u001b[0m\n\u001b[1;32m    565\u001b[0m \u001b[38;5;28;01mdef\u001b[39;00m \u001b[38;5;21m_strptime_datetime\u001b[39m(\u001b[38;5;28mcls\u001b[39m, data_string, \u001b[38;5;28mformat\u001b[39m\u001b[38;5;241m=\u001b[39m\u001b[38;5;124m\"\u001b[39m\u001b[38;5;132;01m%a\u001b[39;00m\u001b[38;5;124m \u001b[39m\u001b[38;5;124m%\u001b[39m\u001b[38;5;124mb \u001b[39m\u001b[38;5;132;01m%d\u001b[39;00m\u001b[38;5;124m \u001b[39m\u001b[38;5;124m%\u001b[39m\u001b[38;5;124mH:\u001b[39m\u001b[38;5;124m%\u001b[39m\u001b[38;5;124mM:\u001b[39m\u001b[38;5;124m%\u001b[39m\u001b[38;5;124mS \u001b[39m\u001b[38;5;124m%\u001b[39m\u001b[38;5;124mY\u001b[39m\u001b[38;5;124m\"\u001b[39m):\n\u001b[1;32m    566\u001b[0m \u001b[38;5;250m    \u001b[39m\u001b[38;5;124;03m\"\"\"Return a class cls instance based on the input string and the\u001b[39;00m\n\u001b[1;32m    567\u001b[0m \u001b[38;5;124;03m    format string.\"\"\"\u001b[39;00m\n\u001b[0;32m--> 568\u001b[0m     tt, fraction, gmtoff_fraction \u001b[38;5;241m=\u001b[39m _strptime(data_string, \u001b[38;5;28mformat\u001b[39m)\n\u001b[1;32m    569\u001b[0m     tzname, gmtoff \u001b[38;5;241m=\u001b[39m tt[\u001b[38;5;241m-\u001b[39m\u001b[38;5;241m2\u001b[39m:]\n\u001b[1;32m    570\u001b[0m     args \u001b[38;5;241m=\u001b[39m tt[:\u001b[38;5;241m6\u001b[39m] \u001b[38;5;241m+\u001b[39m (fraction,)\n",
      "File \u001b[0;32m~/anaconda3/lib/python3.11/_strptime.py:349\u001b[0m, in \u001b[0;36m_strptime\u001b[0;34m(data_string, format)\u001b[0m\n\u001b[1;32m    347\u001b[0m found \u001b[38;5;241m=\u001b[39m format_regex\u001b[38;5;241m.\u001b[39mmatch(data_string)\n\u001b[1;32m    348\u001b[0m \u001b[38;5;28;01mif\u001b[39;00m \u001b[38;5;129;01mnot\u001b[39;00m found:\n\u001b[0;32m--> 349\u001b[0m     \u001b[38;5;28;01mraise\u001b[39;00m \u001b[38;5;167;01mValueError\u001b[39;00m(\u001b[38;5;124m\"\u001b[39m\u001b[38;5;124mtime data \u001b[39m\u001b[38;5;132;01m%r\u001b[39;00m\u001b[38;5;124m does not match format \u001b[39m\u001b[38;5;132;01m%r\u001b[39;00m\u001b[38;5;124m\"\u001b[39m \u001b[38;5;241m%\u001b[39m\n\u001b[1;32m    350\u001b[0m                      (data_string, \u001b[38;5;28mformat\u001b[39m))\n\u001b[1;32m    351\u001b[0m \u001b[38;5;28;01mif\u001b[39;00m \u001b[38;5;28mlen\u001b[39m(data_string) \u001b[38;5;241m!=\u001b[39m found\u001b[38;5;241m.\u001b[39mend():\n\u001b[1;32m    352\u001b[0m     \u001b[38;5;28;01mraise\u001b[39;00m \u001b[38;5;167;01mValueError\u001b[39;00m(\u001b[38;5;124m\"\u001b[39m\u001b[38;5;124munconverted data remains: \u001b[39m\u001b[38;5;132;01m%s\u001b[39;00m\u001b[38;5;124m\"\u001b[39m \u001b[38;5;241m%\u001b[39m\n\u001b[1;32m    353\u001b[0m                       data_string[found\u001b[38;5;241m.\u001b[39mend():])\n",
      "\u001b[0;31mValueError\u001b[0m: time data '10. AUG 2023' does not match format '%d %b %Y'"
     ]
    }
   ],
   "source": [
    "# Convert the keywords to lowercase for case-insensitive matching\n",
    "keywords_lower = [word.lower() for word in keywords]\n",
    "\n",
    "# Filter the dataframe based on the condition\n",
    "df_filtered = df[df['Title'].str.lower().str.contains('|'.join(keywords_lower))]\n",
    "\n",
    "#Reset index\n",
    "df_filtered = df_filtered.reset_index(drop=True)\n",
    "\n",
    "\n",
    "dict_en = {'JAN': 'JAN', 'FEB': 'FEB', 'MAR': 'MAR', 'APR': 'APR', 'MAJ': 'MAY', 'JUN': 'JUN', 'JUL': 'JUL', 'AUG': 'AUG', 'SEP': 'SEP', 'OKT': 'OCT', 'NOV': 'NOV', 'DEC': 'DEC'}\n",
    "\n",
    "def convert_date(date_string):\n",
    "    \n",
    "\n",
    "    #date_string = date_string.strip('.')\n",
    "    # Translate month names to English\n",
    "    #translated_date = translate_month_to_english(date_string.strip('.'))\n",
    "    #print(translated_date)\n",
    "    \n",
    "    # Check if the date string contains a year\n",
    "    if len(date_string) > 8:  # Format: Day, Month, Year translated_date.split('.')\n",
    "        #print(translated_date.split('.'))\n",
    "        date = date_string.strip('.')\n",
    "        date2 = date_string.split(' ')[1]\n",
    "        date2[1] = dict_en[date2[1]]\n",
    "        date3 = ' '.join(date2)\n",
    "        date_string = date3.replace('.', ' ')\n",
    "        try:\n",
    "            return datetime.datetime.strptime(date_string.strip('.'), '%d %b %Y').strftime('%Y-%m-%d')\n",
    "        except:\n",
    "            return datetime.datetime.strptime(date_string.strip('.'), '%d. %b %Y').strftime('%Y-%m-%d')\n",
    "    else:  # Format: Day, Month\n",
    "        current_year = datetime.datetime.now().year\n",
    "        # Remove the trailing period and add the current year\n",
    "        return datetime.datetime.strptime(date_string.strip('.') + f\" {current_year}\", '%d %b %Y').strftime('%Y-%m-%d')\n",
    "\n",
    "# Apply the conversion function to the 'Date' column\n",
    "df_filtered['Date'] = df_filtered['Date'].apply(convert_date)\n",
    "#print(df_filteret['Date'])\n"
   ]
  },
  {
   "cell_type": "code",
   "execution_count": null,
   "id": "1cb1d34a-5808-487f-ab99-fcafb81de420",
   "metadata": {},
   "outputs": [],
   "source": []
  },
  {
   "cell_type": "code",
   "execution_count": null,
   "id": "30761e97-6051-4e73-97d1-f9369a0945c3",
   "metadata": {},
   "outputs": [],
   "source": []
  },
  {
   "cell_type": "code",
   "execution_count": null,
   "id": "2b975a0e-516a-4bdb-8340-9d34e4a0bc3a",
   "metadata": {},
   "outputs": [],
   "source": []
  },
  {
   "cell_type": "code",
   "execution_count": null,
   "id": "18b6617f-e800-45fe-974a-5b4a643ccf2b",
   "metadata": {},
   "outputs": [],
   "source": []
  },
  {
   "cell_type": "code",
   "execution_count": 104,
   "id": "9393e4c4-b685-41ae-9700-d48dacdf2e83",
   "metadata": {
    "tags": []
   },
   "outputs": [
    {
     "data": {
      "text/plain": [
       "datetime.datetime(2023, 8, 10, 0, 0)"
      ]
     },
     "execution_count": 104,
     "metadata": {},
     "output_type": "execute_result"
    }
   ],
   "source": [
    "datetime.datetime.strptime('10. AUG 2023', '%d. %b %Y')#.strftime('%Y-%m-%d')"
   ]
  },
  {
   "cell_type": "code",
   "execution_count": null,
   "id": "fda1a238-5213-403f-9ec2-dcab27f62cc4",
   "metadata": {},
   "outputs": [],
   "source": []
  },
  {
   "cell_type": "code",
   "execution_count": null,
   "id": "a04ab3fe-7166-4a7f-9a7b-0f4c4db3f376",
   "metadata": {},
   "outputs": [],
   "source": []
  },
  {
   "cell_type": "code",
   "execution_count": null,
   "id": "5c7a626b-b1fd-4911-b0fb-dada17e17712",
   "metadata": {},
   "outputs": [],
   "source": []
  },
  {
   "cell_type": "code",
   "execution_count": null,
   "id": "ae4a9b54-a869-4a53-9335-9b1b49f362cf",
   "metadata": {},
   "outputs": [],
   "source": []
  },
  {
   "cell_type": "code",
   "execution_count": null,
   "id": "7cb1ad92-7ce2-4669-9b39-7d99f3908d95",
   "metadata": {},
   "outputs": [],
   "source": []
  },
  {
   "cell_type": "code",
   "execution_count": null,
   "id": "c5da9d82-25d8-40e2-8f40-6fee8010ee23",
   "metadata": {},
   "outputs": [],
   "source": []
  },
  {
   "cell_type": "code",
   "execution_count": null,
   "id": "91a5fb86-8cf6-41bd-9a1f-e2482cb964d9",
   "metadata": {},
   "outputs": [],
   "source": []
  },
  {
   "cell_type": "code",
   "execution_count": null,
   "id": "526d793c-2b7d-4722-a266-b280a9fc43ae",
   "metadata": {},
   "outputs": [],
   "source": []
  },
  {
   "cell_type": "code",
   "execution_count": null,
   "id": "e9b1f312-545d-4800-a261-6a90a75722e9",
   "metadata": {},
   "outputs": [],
   "source": []
  },
  {
   "cell_type": "code",
   "execution_count": null,
   "id": "b293b8c4-aafe-4202-9cf6-d0b63d743cb7",
   "metadata": {},
   "outputs": [],
   "source": []
  }
 ],
 "metadata": {
  "kernelspec": {
   "display_name": "Python 3 (ipykernel)",
   "language": "python",
   "name": "python3"
  },
  "language_info": {
   "codemirror_mode": {
    "name": "ipython",
    "version": 3
   },
   "file_extension": ".py",
   "mimetype": "text/x-python",
   "name": "python",
   "nbconvert_exporter": "python",
   "pygments_lexer": "ipython3",
   "version": "3.11.3"
  }
 },
 "nbformat": 4,
 "nbformat_minor": 5
}
