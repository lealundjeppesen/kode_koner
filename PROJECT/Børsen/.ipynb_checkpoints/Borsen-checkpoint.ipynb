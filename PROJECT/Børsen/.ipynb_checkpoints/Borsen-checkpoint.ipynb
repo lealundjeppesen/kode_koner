{
 "cells": [
  {
   "cell_type": "markdown",
   "id": "b254497d-f772-4330-9807-50508fa047e1",
   "metadata": {},
   "source": [
    "## Scraping Børsen for articles about Novo Nordisk"
   ]
  },
  {
   "cell_type": "code",
   "execution_count": 2,
   "id": "b7d7c1c4-ceb2-438c-9a09-9495625e06e9",
   "metadata": {
    "tags": []
   },
   "outputs": [
    {
     "ename": "ModuleNotFoundError",
     "evalue": "No module named 'Password'",
     "output_type": "error",
     "traceback": [
      "\u001b[0;31m---------------------------------------------------------------------------\u001b[0m",
      "\u001b[0;31mModuleNotFoundError\u001b[0m                       Traceback (most recent call last)",
      "Cell \u001b[0;32mIn[2], line 11\u001b[0m\n\u001b[1;32m      9\u001b[0m \u001b[38;5;28;01mimport\u001b[39;00m \u001b[38;5;21;01mrequests\u001b[39;00m\n\u001b[1;32m     10\u001b[0m \u001b[38;5;28;01mfrom\u001b[39;00m \u001b[38;5;21;01mbs4\u001b[39;00m \u001b[38;5;28;01mimport\u001b[39;00m BeautifulSoup\n\u001b[0;32m---> 11\u001b[0m \u001b[38;5;28;01mfrom\u001b[39;00m \u001b[38;5;21;01mPassword\u001b[39;00m \u001b[38;5;28;01mimport\u001b[39;00m PASSWORD\n",
      "\u001b[0;31mModuleNotFoundError\u001b[0m: No module named 'Password'"
     ]
    }
   ],
   "source": [
    "from selenium import webdriver\n",
    "from selenium.webdriver.chrome.service import Service\n",
    "from selenium.webdriver.common.by import By\n",
    "from selenium.webdriver.common.keys import Keys\n",
    "from selenium.webdriver.support import expected_conditions as EC\n",
    "from selenium.webdriver.support.ui import WebDriverWait\n",
    "from webdriver_manager.chrome import ChromeDriverManager\n",
    "import time\n",
    "import requests\n",
    "from bs4 import BeautifulSoup\n",
    "from Password import PASSWORD"
   ]
  },
  {
   "cell_type": "code",
   "execution_count": 9,
   "id": "864c6638-297f-4b57-9f4a-8d946bdf7f2a",
   "metadata": {},
   "outputs": [],
   "source": [
    "# Save for later use\n",
    "response = requests.get('https://borsen.dk/', headers={'name': 'Rosemarie Thalia Blicher', 'e-mail': 'mzc144@alumni.ku.dk'})\n",
    "\n",
    "# Set up Selenium with Chrome driver\n",
    "driver = webdriver.Chrome()\n",
    "driver.maximize_window()\n",
    "\n",
    "# Specify the URL\n",
    "url = \"https://borsen.dk/\"\n",
    "driver.get(url)\n",
    "time.sleep(0.5)  # Add a delay to avoid overwhelming the server and getting blocked\n",
    "\n",
    "# We want the cookies to go away\n",
    "cookie = driver.find_element(By.ID, 'acceptButton')\n",
    "cookie.click()\n",
    "time.sleep(0.5) # Cookie pop-up will disappear\n",
    "\n",
    "# Now we want to log in, such that we get access to all articles\n",
    "login_button = driver.find_element(By.XPATH, \"//span[text()='Log ind']\")\n",
    "login_button.click()\n",
    "\n",
    "# Find the email input field by its id and type in the email\n",
    "email_input = driver.find_element(By.ID, \"__BVID__214\")\n",
    "email_input.send_keys(\"fzb@an.dk\")\n"
   ]
  }
 ],
 "metadata": {
  "kernelspec": {
   "display_name": "Python 3 (ipykernel)",
   "language": "python",
   "name": "python3"
  },
  "language_info": {
   "codemirror_mode": {
    "name": "ipython",
    "version": 3
   },
   "file_extension": ".py",
   "mimetype": "text/x-python",
   "name": "python",
   "nbconvert_exporter": "python",
   "pygments_lexer": "ipython3",
   "version": "3.11.3"
  }
 },
 "nbformat": 4,
 "nbformat_minor": 5
}
